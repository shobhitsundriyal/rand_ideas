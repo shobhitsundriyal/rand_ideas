{
  "nbformat": 4,
  "nbformat_minor": 0,
  "metadata": {
    "colab": {
      "name": "Machine_translation_tf(TE).ipynb",
      "provenance": [],
      "authorship_tag": "ABX9TyMOGRYp4WHp5VVp5948lkkZ",
      "include_colab_link": true
    },
    "kernelspec": {
      "name": "python3",
      "display_name": "Python 3"
    },
    "accelerator": "GPU"
  },
  "cells": [
    {
      "cell_type": "markdown",
      "metadata": {
        "id": "view-in-github",
        "colab_type": "text"
      },
      "source": [
        "<a href=\"https://colab.research.google.com/github/shobhitsundriyal/rand_ideas/blob/master/Machine_translation_tf(TE).ipynb\" target=\"_parent\"><img src=\"https://colab.research.google.com/assets/colab-badge.svg\" alt=\"Open In Colab\"/></a>"
      ]
    },
    {
      "cell_type": "code",
      "metadata": {
        "id": "2LhoCMOLeNnC",
        "colab_type": "code",
        "outputId": "ce2d704f-7617-48d7-c5bd-de1321824060",
        "colab": {
          "base_uri": "https://localhost:8080/",
          "height": 207
        }
      },
      "source": [
        "!wget \"http://www.manythings.org/anki/hin-eng.zip\""
      ],
      "execution_count": 1,
      "outputs": [
        {
          "output_type": "stream",
          "text": [
            "--2020-05-25 15:55:27--  http://www.manythings.org/anki/hin-eng.zip\n",
            "Resolving www.manythings.org (www.manythings.org)... 104.24.108.196, 104.24.109.196, 2606:4700:3033::6818:6dc4, ...\n",
            "Connecting to www.manythings.org (www.manythings.org)|104.24.108.196|:80... connected.\n",
            "HTTP request sent, awaiting response... 200 OK\n",
            "Length: 126449 (123K) [application/zip]\n",
            "Saving to: ‘hin-eng.zip’\n",
            "\n",
            "\rhin-eng.zip           0%[                    ]       0  --.-KB/s               \rhin-eng.zip         100%[===================>] 123.49K  --.-KB/s    in 0.1s    \n",
            "\n",
            "2020-05-25 15:55:28 (875 KB/s) - ‘hin-eng.zip’ saved [126449/126449]\n",
            "\n"
          ],
          "name": "stdout"
        }
      ]
    },
    {
      "cell_type": "code",
      "metadata": {
        "id": "DcfAd5YQeb51",
        "colab_type": "code",
        "outputId": "b102a347-856a-482e-c573-9ad96250dc59",
        "colab": {
          "base_uri": "https://localhost:8080/",
          "height": 69
        }
      },
      "source": [
        "!unzip \"hin-eng.zip\""
      ],
      "execution_count": 2,
      "outputs": [
        {
          "output_type": "stream",
          "text": [
            "Archive:  hin-eng.zip\n",
            "  inflating: hin.txt                 \n",
            "  inflating: _about.txt              \n"
          ],
          "name": "stdout"
        }
      ]
    },
    {
      "cell_type": "code",
      "metadata": {
        "id": "JXfHQTcRuYpZ",
        "colab_type": "code",
        "colab": {
          "base_uri": "https://localhost:8080/",
          "height": 224
        },
        "outputId": "f3195e2d-c35b-4bc5-8150-620bd1b7a63d"
      },
      "source": [
        "! mkdir ~/.kaggle\n",
        "! cp kaggle.json ~/.kaggle/\n",
        "! chmod 600 ~/.kaggle/kaggle.json\n",
        "! kaggle competitions download -c \"tweet-sentiment-extraction\"\n",
        "!unzip 'train.csv.zip'"
      ],
      "execution_count": 3,
      "outputs": [
        {
          "output_type": "stream",
          "text": [
            "Warning: Looks like you're using an outdated API Version, please consider updating (server 1.5.6 / client 1.5.4)\n",
            "Downloading train.csv.zip to /content\n",
            "  0% 0.00/1.23M [00:00<?, ?B/s]\n",
            "100% 1.23M/1.23M [00:00<00:00, 40.5MB/s]\n",
            "Downloading test.csv to /content\n",
            "  0% 0.00/307k [00:00<?, ?B/s]\n",
            "100% 307k/307k [00:00<00:00, 99.7MB/s]\n",
            "Downloading sample_submission.csv to /content\n",
            "  0% 0.00/41.4k [00:00<?, ?B/s]\n",
            "100% 41.4k/41.4k [00:00<00:00, 42.1MB/s]\n",
            "Archive:  train.csv.zip\n",
            "  inflating: train.csv               \n"
          ],
          "name": "stdout"
        }
      ]
    },
    {
      "cell_type": "code",
      "metadata": {
        "id": "haGdGD-7uYmT",
        "colab_type": "code",
        "colab": {}
      },
      "source": [
        "import pandas as pd\n",
        "train_df = pd.read_csv('train.csv')\n",
        "test_df = pd.read_csv('test.csv')"
      ],
      "execution_count": 0,
      "outputs": []
    },
    {
      "cell_type": "code",
      "metadata": {
        "id": "rU6bQI5wekjV",
        "colab_type": "code",
        "colab": {}
      },
      "source": [
        "import tensorflow as tf\n",
        "\n",
        "import matplotlib.pyplot as plt\n",
        "import matplotlib.ticker as ticker\n",
        "from sklearn.model_selection import train_test_split\n",
        "\n",
        "import unicodedata\n",
        "import re\n",
        "import numpy as np\n",
        "import os\n",
        "import io\n",
        "import time"
      ],
      "execution_count": 0,
      "outputs": []
    },
    {
      "cell_type": "code",
      "metadata": {
        "id": "Im9AmKwWtmVa",
        "colab_type": "code",
        "colab": {}
      },
      "source": [
        "def unicode_to_ascii(s):\n",
        "  return ''.join(c for c in unicodedata.normalize('NFD', s)\n",
        "      if unicodedata.category(c) != 'Mn')\n",
        "\n",
        "\n",
        "def preprocess_sentence(w):\n",
        "  w = unicode_to_ascii(w.lower().strip())\n",
        "\n",
        "  # creating a space between a word and the punctuation following it\n",
        "  # eg: \"he is a boy.\" => \"he is a boy .\"\n",
        "  # Reference:- https://stackoverflow.com/questions/3645931/python-padding-punctuation-with-white-spaces-keeping-punctuation\n",
        "  w = re.sub(r\"([?.!,¿])\", r\" \\1 \", w)\n",
        "  w = re.sub(r'[\" \"]+', \" \", w)\n",
        "\n",
        "  # replacing everything with space except (a-z, A-Z, \".\", \"?\", \"!\", \",\")\n",
        "  w = re.sub(r\"[^a-zA-Z?.!,¿]+\", \" \", w)\n",
        "\n",
        "  w = w.strip()\n",
        "\n",
        "  # adding a start and an end token to the sentence\n",
        "  # so that the model know when to start and stop predicting.\n",
        "  w = '<start> ' + w + ' <end>'\n",
        "  return w"
      ],
      "execution_count": 0,
      "outputs": []
    },
    {
      "cell_type": "code",
      "metadata": {
        "id": "fcDuHFT3t0AT",
        "colab_type": "code",
        "colab": {}
      },
      "source": [
        "def create_dataset(df, sentiment=None, test_data=False):\n",
        "  if test_data:\n",
        "    t = df.text\n",
        "    t = t.apply(lambda w: preprocess_sentence(str(w)))\n",
        "    return t.tolist()\n",
        "\n",
        "  else:\n",
        "    if sentiment != None:\n",
        "      t = df.text[df['sentiment'] == sentiment]\n",
        "      st = df.selected_text[df['sentiment'] == sentiment]\n",
        "      t = t.apply(lambda w: preprocess_sentence(str(w)))\n",
        "      st = st.apply(lambda w: preprocess_sentence(str(w)))\n",
        "\n",
        "    else:\n",
        "      t = df.text\n",
        "      st = df.selected_text\n",
        "      t = t.apply(lambda w: preprocess_sentence(str(w)))\n",
        "      st = st.apply(lambda w: preprocess_sentence(str(w)))\n",
        "\n",
        "    return t.tolist(), st.tolist()"
      ],
      "execution_count": 0,
      "outputs": []
    },
    {
      "cell_type": "code",
      "metadata": {
        "id": "05Ga0KlWuGLs",
        "colab_type": "code",
        "colab": {
          "base_uri": "https://localhost:8080/",
          "height": 52
        },
        "outputId": "4210e21a-978e-44a7-8f59-3e67b178e094"
      },
      "source": [
        "pos_text, pos_sel_text = create_dataset(train_df, 'positive')\n",
        "\n",
        "print(pos_text[-1])\n",
        "print(pos_sel_text[-1])"
      ],
      "execution_count": 8,
      "outputs": [
        {
          "output_type": "stream",
          "text": [
            "<start> but it was worth it . <end>\n",
            "<start> but it was worth it . <end>\n"
          ],
          "name": "stdout"
        }
      ]
    },
    {
      "cell_type": "code",
      "metadata": {
        "id": "ufs4QqyY2B2d",
        "colab_type": "code",
        "colab": {
          "base_uri": "https://localhost:8080/",
          "height": 34
        },
        "outputId": "93620af0-74eb-476a-8eb5-9f91e6b6ee7d"
      },
      "source": [
        "print(len(pos_text))"
      ],
      "execution_count": 9,
      "outputs": [
        {
          "output_type": "stream",
          "text": [
            "8582\n"
          ],
          "name": "stdout"
        }
      ]
    },
    {
      "cell_type": "code",
      "metadata": {
        "id": "HdMw6cj_wm3b",
        "colab_type": "code",
        "colab": {}
      },
      "source": [
        "def tokenize(lang):\n",
        "  lang_tokenizer = tf.keras.preprocessing.text.Tokenizer(\n",
        "      filters='')\n",
        "  lang_tokenizer.fit_on_texts(lang)\n",
        "\n",
        "  tensor = lang_tokenizer.texts_to_sequences(lang)\n",
        "\n",
        "  tensor = tf.keras.preprocessing.sequence.pad_sequences(tensor,\n",
        "                                                         padding='post')\n",
        "\n",
        "  return tensor, lang_tokenizer"
      ],
      "execution_count": 0,
      "outputs": []
    },
    {
      "cell_type": "code",
      "metadata": {
        "id": "1TdTEVVzx40i",
        "colab_type": "code",
        "colab": {}
      },
      "source": [
        "def load_dataset(path, num_examples=None):#xxxxxxxxxxxxxxxxxxxxxxxxxxxxxxxxxxxxxxxxxxxxxxxxxx\n",
        "  # creating cleaned input, output pairs\n",
        "  targ_lang, inp_lang = create_dataset(path, num_examples)\n",
        "\n",
        "  input_tensor, inp_lang_tokenizer = tokenize(inp_lang)\n",
        "  target_tensor, targ_lang_tokenizer = tokenize(targ_lang)\n",
        "\n",
        "  return input_tensor, target_tensor, inp_lang_tokenizer, targ_lang_tokenizer"
      ],
      "execution_count": 0,
      "outputs": []
    },
    {
      "cell_type": "code",
      "metadata": {
        "id": "TJFy705uyEQI",
        "colab_type": "code",
        "colab": {}
      },
      "source": [
        "vocab = create_dataset(train_df, test_data=True) + create_dataset(test_df, test_data=True)"
      ],
      "execution_count": 0,
      "outputs": []
    },
    {
      "cell_type": "code",
      "metadata": {
        "id": "uoxpL3Bw0fm5",
        "colab_type": "code",
        "colab": {}
      },
      "source": [
        "lang_tokenizer = tf.keras.preprocessing.text.Tokenizer(\n",
        "                 filters='')\n",
        "lang_tokenizer.fit_on_texts(vocab)\n",
        "\n",
        "pos_seq_tensors = lang_tokenizer.texts_to_sequences(pos_text)\n",
        "pos_sel_seq_tensors = lang_tokenizer.texts_to_sequences(pos_sel_text)\n",
        "\n",
        "pos_seq_tensors = tf.keras.preprocessing.sequence.pad_sequences(pos_seq_tensors,\n",
        "                                                         padding='post')\n",
        "pos_sel_seq_tensors = tf.keras.preprocessing.sequence.pad_sequences(pos_sel_seq_tensors,\n",
        "                                                         padding='post')"
      ],
      "execution_count": 0,
      "outputs": []
    },
    {
      "cell_type": "code",
      "metadata": {
        "id": "SQ8YArao0g2b",
        "colab_type": "code",
        "colab": {
          "base_uri": "https://localhost:8080/",
          "height": 52
        },
        "outputId": "f79a1e9a-f658-4945-9ec9-ebb9f50a4312"
      },
      "source": [
        "print(pos_seq_tensors.shape)\n",
        "print(pos_sel_seq_tensors.shape)"
      ],
      "execution_count": 14,
      "outputs": [
        {
          "output_type": "stream",
          "text": [
            "(8582, 57)\n",
            "(8582, 39)\n"
          ],
          "name": "stdout"
        }
      ]
    },
    {
      "cell_type": "code",
      "metadata": {
        "id": "gkPcVy-V1_cn",
        "colab_type": "code",
        "colab": {
          "base_uri": "https://localhost:8080/",
          "height": 34
        },
        "outputId": "4d3c15d7-0eda-4668-ac54-552c0c249808"
      },
      "source": [
        "# Creating training and validation sets using an 80-20 split\n",
        "input_tensor_train, input_tensor_val, target_tensor_train, target_tensor_val = train_test_split(pos_seq_tensors, pos_sel_seq_tensors, test_size=0.2)\n",
        "\n",
        "# Show length\n",
        "print(len(input_tensor_train), len(target_tensor_train), len(input_tensor_val), len(target_tensor_val))"
      ],
      "execution_count": 15,
      "outputs": [
        {
          "output_type": "stream",
          "text": [
            "6865 6865 1717 1717\n"
          ],
          "name": "stdout"
        }
      ]
    },
    {
      "cell_type": "code",
      "metadata": {
        "id": "WEWgMMUM2mtU",
        "colab_type": "code",
        "colab": {}
      },
      "source": [
        "def convert(vocab, tensor):\n",
        "  for t in tensor:\n",
        "    if t!=0:\n",
        "      print (\"%d ----> %s\" % (t, vocab.index_word[t]))"
      ],
      "execution_count": 0,
      "outputs": []
    },
    {
      "cell_type": "code",
      "metadata": {
        "id": "tWG65aRQ203k",
        "colab_type": "code",
        "colab": {
          "base_uri": "https://localhost:8080/",
          "height": 484
        },
        "outputId": "1f502d8f-f28c-4ca1-e8af-6608b8c0acdf"
      },
      "source": [
        "print (\"Input Language; index to word mapping\")\n",
        "convert(lang_tokenizer, input_tensor_train[0])\n",
        "print ()\n",
        "print (\"Target Language; index to word mapping\")\n",
        "convert(lang_tokenizer, target_tensor_train[0])"
      ],
      "execution_count": 17,
      "outputs": [
        {
          "output_type": "stream",
          "text": [
            "Input Language; index to word mapping\n",
            "2 ----> <start>\n",
            "1341 ----> stress\n",
            "589 ----> test\n",
            "47 ----> http\n",
            "399 ----> www\n",
            "1 ----> .\n",
            "23337 ----> selfhelpmagazine\n",
            "1 ----> .\n",
            "66 ----> com\n",
            "23338 ----> psychtoons\n",
            "23339 ----> glasbergen\n",
            "23340 ----> stressmanagement\n",
            "23341 ----> stresstest\n",
            "1 ----> .\n",
            "23342 ----> gif\n",
            "36 ----> good\n",
            "388 ----> luck\n",
            "5 ----> !\n",
            "3 ----> <end>\n",
            "\n",
            "Target Language; index to word mapping\n",
            "2 ----> <start>\n",
            "36 ----> good\n",
            "388 ----> luck\n",
            "5 ----> !\n",
            "3 ----> <end>\n"
          ],
          "name": "stdout"
        }
      ]
    },
    {
      "cell_type": "code",
      "metadata": {
        "id": "les2Y13T26-G",
        "colab_type": "code",
        "colab": {}
      },
      "source": [
        "BUFFER_SIZE = len(input_tensor_train)\n",
        "BATCH_SIZE = 64\n",
        "steps_per_epoch = len(input_tensor_train)//BATCH_SIZE\n",
        "embedding_dim = 256\n",
        "units = 1024\n",
        "vocab_inp_size = len(lang_tokenizer.word_index)+1\n",
        "vocab_tar_size = len(lang_tokenizer.word_index)+1\n",
        "\n",
        "dataset = tf.data.Dataset.from_tensor_slices((input_tensor_train, target_tensor_train)).shuffle(BUFFER_SIZE)\n",
        "dataset = dataset.batch(BATCH_SIZE, drop_remainder=True)"
      ],
      "execution_count": 0,
      "outputs": []
    },
    {
      "cell_type": "code",
      "metadata": {
        "id": "m5sBnnbr3O1Y",
        "colab_type": "code",
        "colab": {
          "base_uri": "https://localhost:8080/",
          "height": 34
        },
        "outputId": "24615f5b-ef4c-4307-fe9b-8706edc1b3c7"
      },
      "source": [
        "example_input_batch, example_target_batch = next(iter(dataset))\n",
        "example_input_batch.shape, example_target_batch.shape"
      ],
      "execution_count": 19,
      "outputs": [
        {
          "output_type": "execute_result",
          "data": {
            "text/plain": [
              "(TensorShape([64, 57]), TensorShape([64, 39]))"
            ]
          },
          "metadata": {
            "tags": []
          },
          "execution_count": 19
        }
      ]
    },
    {
      "cell_type": "markdown",
      "metadata": {
        "id": "c05_t5-p3dwk",
        "colab_type": "text"
      },
      "source": [
        "---"
      ]
    },
    {
      "cell_type": "code",
      "metadata": {
        "id": "8HZS28Mi3W_z",
        "colab_type": "code",
        "colab": {}
      },
      "source": [
        "class Encoder(tf.keras.Model):\n",
        "  def __init__(self, vocab_size, embedding_dim, enc_units, batch_sz):\n",
        "    super(Encoder, self).__init__()\n",
        "    self.batch_sz = batch_sz\n",
        "    self.enc_units = enc_units\n",
        "    self.embedding = tf.keras.layers.Embedding(vocab_size, embedding_dim)\n",
        "    self.gru = tf.keras.layers.GRU(self.enc_units,\n",
        "                                   return_sequences=True,\n",
        "                                   return_state=True,\n",
        "                                   recurrent_initializer='glorot_uniform')\n",
        "\n",
        "  def call(self, x, hidden):\n",
        "    x = self.embedding(x)\n",
        "    output, state = self.gru(x, initial_state = hidden)\n",
        "    return output, state\n",
        "\n",
        "  def initialize_hidden_state(self):\n",
        "    return tf.zeros((self.batch_sz, self.enc_units))"
      ],
      "execution_count": 0,
      "outputs": []
    },
    {
      "cell_type": "code",
      "metadata": {
        "id": "1D1rHPn63evo",
        "colab_type": "code",
        "colab": {
          "base_uri": "https://localhost:8080/",
          "height": 52
        },
        "outputId": "0f8151e3-eac6-4472-d366-fbccaf3bbe7e"
      },
      "source": [
        "encoder = Encoder(vocab_inp_size, embedding_dim, units, BATCH_SIZE)\n",
        "\n",
        "# sample input\n",
        "sample_hidden = encoder.initialize_hidden_state()\n",
        "sample_output, sample_hidden = encoder(example_input_batch, sample_hidden)\n",
        "print ('Encoder output shape: (batch size, sequence length, units) {}'.format(sample_output.shape))\n",
        "print ('Encoder Hidden state shape: (batch size, units) {}'.format(sample_hidden.shape))"
      ],
      "execution_count": 21,
      "outputs": [
        {
          "output_type": "stream",
          "text": [
            "Encoder output shape: (batch size, sequence length, units) (64, 57, 1024)\n",
            "Encoder Hidden state shape: (batch size, units) (64, 1024)\n"
          ],
          "name": "stdout"
        }
      ]
    },
    {
      "cell_type": "code",
      "metadata": {
        "id": "xVZdZtia3hKi",
        "colab_type": "code",
        "colab": {}
      },
      "source": [
        "class BahdanauAttention(tf.keras.layers.Layer):\n",
        "  def __init__(self, units):\n",
        "    super(BahdanauAttention, self).__init__()\n",
        "    self.W1 = tf.keras.layers.Dense(units)\n",
        "    self.W2 = tf.keras.layers.Dense(units)\n",
        "    self.V = tf.keras.layers.Dense(1)\n",
        "\n",
        "  def call(self, query, values):\n",
        "    # query hidden state shape == (batch_size, hidden size)\n",
        "    # query_with_time_axis shape == (batch_size, 1, hidden size)\n",
        "    # values shape == (batch_size, max_len, hidden size)\n",
        "    # we are doing this to broadcast addition along the time axis to calculate the score\n",
        "    query_with_time_axis = tf.expand_dims(query, 1)\n",
        "\n",
        "    # score shape == (batch_size, max_length, 1)\n",
        "    # we get 1 at the last axis because we are applying score to self.V\n",
        "    # the shape of the tensor before applying self.V is (batch_size, max_length, units)\n",
        "    score = self.V(tf.nn.tanh(\n",
        "        self.W1(query_with_time_axis) + self.W2(values)))\n",
        "\n",
        "    # attention_weights shape == (batch_size, max_length, 1)\n",
        "    attention_weights = tf.nn.softmax(score, axis=1)\n",
        "\n",
        "    # context_vector shape after sum == (batch_size, hidden_size)\n",
        "    context_vector = attention_weights * values\n",
        "    context_vector = tf.reduce_sum(context_vector, axis=1)\n",
        "\n",
        "    return context_vector, attention_weights"
      ],
      "execution_count": 0,
      "outputs": []
    },
    {
      "cell_type": "code",
      "metadata": {
        "id": "IGLADfjU3kaE",
        "colab_type": "code",
        "colab": {
          "base_uri": "https://localhost:8080/",
          "height": 52
        },
        "outputId": "5f845819-d749-4867-8196-2f4eb01ec9b5"
      },
      "source": [
        "attention_layer = BahdanauAttention(10)\n",
        "attention_result, attention_weights = attention_layer(sample_hidden, sample_output)\n",
        "\n",
        "print(\"Attention result shape: (batch size, units) {}\".format(attention_result.shape))\n",
        "print(\"Attention weights shape: (batch_size, sequence_length, 1) {}\".format(attention_weights.shape))"
      ],
      "execution_count": 23,
      "outputs": [
        {
          "output_type": "stream",
          "text": [
            "Attention result shape: (batch size, units) (64, 1024)\n",
            "Attention weights shape: (batch_size, sequence_length, 1) (64, 57, 1)\n"
          ],
          "name": "stdout"
        }
      ]
    },
    {
      "cell_type": "code",
      "metadata": {
        "id": "Y7Xc7VEb3m9C",
        "colab_type": "code",
        "colab": {}
      },
      "source": [
        "class Decoder(tf.keras.Model):\n",
        "  def __init__(self, vocab_size, embedding_dim, dec_units, batch_sz):\n",
        "    super(Decoder, self).__init__()\n",
        "    self.batch_sz = batch_sz\n",
        "    self.dec_units = dec_units\n",
        "    self.embedding = tf.keras.layers.Embedding(vocab_size, embedding_dim)\n",
        "    self.gru = tf.keras.layers.GRU(self.dec_units,\n",
        "                                   return_sequences=True,\n",
        "                                   return_state=True,\n",
        "                                   recurrent_initializer='glorot_uniform')\n",
        "    self.fc = tf.keras.layers.Dense(vocab_size)\n",
        "\n",
        "    # used for attention\n",
        "    self.attention = BahdanauAttention(self.dec_units)\n",
        "\n",
        "  def call(self, x, hidden, enc_output):\n",
        "    # enc_output shape == (batch_size, max_length, hidden_size)\n",
        "    context_vector, attention_weights = self.attention(hidden, enc_output)\n",
        "\n",
        "    # x shape after passing through embedding == (batch_size, 1, embedding_dim)\n",
        "    x = self.embedding(x)\n",
        "\n",
        "    # x shape after concatenation == (batch_size, 1, embedding_dim + hidden_size)\n",
        "    x = tf.concat([tf.expand_dims(context_vector, 1), x], axis=-1)\n",
        "\n",
        "    # passing the concatenated vector to the GRU\n",
        "    output, state = self.gru(x)\n",
        "\n",
        "    # output shape == (batch_size * 1, hidden_size)\n",
        "    output = tf.reshape(output, (-1, output.shape[2]))\n",
        "\n",
        "    # output shape == (batch_size, vocab)\n",
        "    x = self.fc(output)\n",
        "\n",
        "    return x, state, attention_weights"
      ],
      "execution_count": 0,
      "outputs": []
    },
    {
      "cell_type": "code",
      "metadata": {
        "id": "yLF-7l5y3phS",
        "colab_type": "code",
        "colab": {
          "base_uri": "https://localhost:8080/",
          "height": 34
        },
        "outputId": "07ab2ca9-adc5-42e8-d8d5-7307585fc031"
      },
      "source": [
        "decoder = Decoder(vocab_tar_size, embedding_dim, units, BATCH_SIZE)\n",
        "\n",
        "sample_decoder_output, _, _ = decoder(tf.random.uniform((BATCH_SIZE, 1)),\n",
        "                                      sample_hidden, sample_output)\n",
        "\n",
        "print ('Decoder output shape: (batch_size, vocab size) {}'.format(sample_decoder_output.shape))"
      ],
      "execution_count": 25,
      "outputs": [
        {
          "output_type": "stream",
          "text": [
            "Decoder output shape: (batch_size, vocab size) (64, 26469)\n"
          ],
          "name": "stdout"
        }
      ]
    },
    {
      "cell_type": "code",
      "metadata": {
        "id": "AedQ8bJ63skp",
        "colab_type": "code",
        "colab": {}
      },
      "source": [
        "optimizer = tf.keras.optimizers.Adam()\n",
        "loss_object = tf.keras.losses.SparseCategoricalCrossentropy(\n",
        "    from_logits=True, reduction='none')\n",
        "\n",
        "def loss_function(real, pred):\n",
        "  mask = tf.math.logical_not(tf.math.equal(real, 0))\n",
        "  loss_ = loss_object(real, pred)\n",
        "\n",
        "  mask = tf.cast(mask, dtype=loss_.dtype)\n",
        "  loss_ *= mask\n",
        "\n",
        "  return tf.reduce_mean(loss_)"
      ],
      "execution_count": 0,
      "outputs": []
    },
    {
      "cell_type": "code",
      "metadata": {
        "id": "UeBQwDRH3yFN",
        "colab_type": "code",
        "colab": {}
      },
      "source": [
        "# Checkpointing\n",
        "checkpoint_dir = './training_checkpoints'\n",
        "checkpoint_prefix = os.path.join(checkpoint_dir, \"ckpt\")\n",
        "checkpoint = tf.train.Checkpoint(optimizer=optimizer,\n",
        "                                 encoder=encoder,\n",
        "                                 decoder=decoder)"
      ],
      "execution_count": 0,
      "outputs": []
    },
    {
      "cell_type": "code",
      "metadata": {
        "id": "QtvrQ92m32yA",
        "colab_type": "code",
        "colab": {}
      },
      "source": [
        "@tf.function\n",
        "def train_step(inp, targ, enc_hidden):\n",
        "  loss = 0\n",
        "\n",
        "  with tf.GradientTape() as tape:\n",
        "    enc_output, enc_hidden = encoder(inp, enc_hidden)\n",
        "\n",
        "    dec_hidden = enc_hidden\n",
        "\n",
        "    dec_input = tf.expand_dims([lang_tokenizer.word_index['<start>']] * BATCH_SIZE, 1)##\n",
        "\n",
        "    # Teacher forcing - feeding the target as the next input\n",
        "    for t in range(1, targ.shape[1]):\n",
        "      # passing enc_output to the decoder\n",
        "      predictions, dec_hidden, _ = decoder(dec_input, dec_hidden, enc_output)\n",
        "\n",
        "      loss += loss_function(targ[:, t], predictions)\n",
        "\n",
        "      # using teacher forcing\n",
        "      dec_input = tf.expand_dims(targ[:, t], 1)\n",
        "\n",
        "  batch_loss = (loss / int(targ.shape[1]))\n",
        "\n",
        "  variables = encoder.trainable_variables + decoder.trainable_variables\n",
        "\n",
        "  gradients = tape.gradient(loss, variables)\n",
        "\n",
        "  optimizer.apply_gradients(zip(gradients, variables))\n",
        "\n",
        "  return batch_loss"
      ],
      "execution_count": 0,
      "outputs": []
    },
    {
      "cell_type": "code",
      "metadata": {
        "id": "exLT0M4T35HJ",
        "colab_type": "code",
        "colab": {
          "base_uri": "https://localhost:8080/",
          "height": 1000
        },
        "outputId": "161976d3-652b-490a-8432-4afdf2ca4db8"
      },
      "source": [
        "EPOCHS = 25\n",
        "\n",
        "for epoch in range(EPOCHS):\n",
        "  start = time.time()\n",
        "\n",
        "  enc_hidden = encoder.initialize_hidden_state()\n",
        "  total_loss = 0\n",
        "\n",
        "  for (batch, (inp, targ)) in enumerate(dataset.take(steps_per_epoch)):\n",
        "    batch_loss = train_step(inp, targ, enc_hidden)\n",
        "    total_loss += batch_loss\n",
        "\n",
        "    if batch % 100 == 0:\n",
        "      print('Epoch {} Batch {} Loss {:.4f}'.format(epoch + 1,\n",
        "                                                   batch,\n",
        "                                                   batch_loss.numpy()))\n",
        "  # saving (checkpoint) the model every 2 epochs\n",
        "  if (epoch + 1) % 2 == 0:\n",
        "    checkpoint.save(file_prefix = checkpoint_prefix)\n",
        "\n",
        "  print('Epoch {} Loss {:.4f}'.format(epoch + 1,\n",
        "                                      total_loss / steps_per_epoch))\n",
        "  print('Time taken for 1 epoch {} sec\\n'.format(time.time() - start))"
      ],
      "execution_count": 29,
      "outputs": [
        {
          "output_type": "stream",
          "text": [
            "Epoch 1 Batch 0 Loss 1.3015\n",
            "Epoch 1 Batch 100 Loss 0.8079\n",
            "Epoch 1 Loss 0.7703\n",
            "Time taken for 1 epoch 203.06927037239075 sec\n",
            "\n",
            "Epoch 2 Batch 0 Loss 0.6245\n",
            "Epoch 2 Batch 100 Loss 0.4811\n",
            "Epoch 2 Loss 0.6576\n",
            "Time taken for 1 epoch 145.60771441459656 sec\n",
            "\n",
            "Epoch 3 Batch 0 Loss 0.6936\n",
            "Epoch 3 Batch 100 Loss 0.5660\n",
            "Epoch 3 Loss 0.6344\n",
            "Time taken for 1 epoch 141.95648527145386 sec\n",
            "\n",
            "Epoch 4 Batch 0 Loss 0.5682\n",
            "Epoch 4 Batch 100 Loss 0.4136\n",
            "Epoch 4 Loss 0.6183\n",
            "Time taken for 1 epoch 144.68277978897095 sec\n",
            "\n",
            "Epoch 5 Batch 0 Loss 0.6710\n",
            "Epoch 5 Batch 100 Loss 0.5661\n",
            "Epoch 5 Loss 0.5979\n",
            "Time taken for 1 epoch 142.86184120178223 sec\n",
            "\n",
            "Epoch 6 Batch 0 Loss 0.5584\n",
            "Epoch 6 Batch 100 Loss 0.6246\n",
            "Epoch 6 Loss 0.5688\n",
            "Time taken for 1 epoch 144.70831441879272 sec\n",
            "\n",
            "Epoch 7 Batch 0 Loss 0.6645\n",
            "Epoch 7 Batch 100 Loss 0.5786\n",
            "Epoch 7 Loss 0.5386\n",
            "Time taken for 1 epoch 144.28186702728271 sec\n",
            "\n",
            "Epoch 8 Batch 0 Loss 0.4687\n",
            "Epoch 8 Batch 100 Loss 0.4494\n",
            "Epoch 8 Loss 0.5081\n",
            "Time taken for 1 epoch 144.5638508796692 sec\n",
            "\n",
            "Epoch 9 Batch 0 Loss 0.4863\n",
            "Epoch 9 Batch 100 Loss 0.5029\n",
            "Epoch 9 Loss 0.4765\n",
            "Time taken for 1 epoch 143.86790990829468 sec\n",
            "\n",
            "Epoch 10 Batch 0 Loss 0.4919\n",
            "Epoch 10 Batch 100 Loss 0.3487\n",
            "Epoch 10 Loss 0.4427\n",
            "Time taken for 1 epoch 145.9801619052887 sec\n",
            "\n",
            "Epoch 11 Batch 0 Loss 0.3441\n",
            "Epoch 11 Batch 100 Loss 0.3641\n",
            "Epoch 11 Loss 0.4091\n",
            "Time taken for 1 epoch 142.96759796142578 sec\n",
            "\n",
            "Epoch 12 Batch 0 Loss 0.3964\n",
            "Epoch 12 Batch 100 Loss 0.4305\n",
            "Epoch 12 Loss 0.3728\n",
            "Time taken for 1 epoch 144.97825574874878 sec\n",
            "\n",
            "Epoch 13 Batch 0 Loss 0.3064\n",
            "Epoch 13 Batch 100 Loss 0.3508\n",
            "Epoch 13 Loss 0.3370\n",
            "Time taken for 1 epoch 144.2130708694458 sec\n",
            "\n",
            "Epoch 14 Batch 0 Loss 0.3073\n",
            "Epoch 14 Batch 100 Loss 0.3390\n",
            "Epoch 14 Loss 0.2997\n",
            "Time taken for 1 epoch 145.60259890556335 sec\n",
            "\n",
            "Epoch 15 Batch 0 Loss 0.2880\n",
            "Epoch 15 Batch 100 Loss 0.3319\n",
            "Epoch 15 Loss 0.2621\n",
            "Time taken for 1 epoch 143.1500813961029 sec\n",
            "\n",
            "Epoch 16 Batch 0 Loss 0.2761\n",
            "Epoch 16 Batch 100 Loss 0.2441\n",
            "Epoch 16 Loss 0.2255\n",
            "Time taken for 1 epoch 146.4316761493683 sec\n",
            "\n",
            "Epoch 17 Batch 0 Loss 0.1873\n",
            "Epoch 17 Batch 100 Loss 0.1746\n",
            "Epoch 17 Loss 0.1908\n",
            "Time taken for 1 epoch 142.9021065235138 sec\n",
            "\n",
            "Epoch 18 Batch 0 Loss 0.1501\n",
            "Epoch 18 Batch 100 Loss 0.1869\n",
            "Epoch 18 Loss 0.1589\n",
            "Time taken for 1 epoch 145.79180932044983 sec\n",
            "\n",
            "Epoch 19 Batch 0 Loss 0.1967\n",
            "Epoch 19 Batch 100 Loss 0.1515\n",
            "Epoch 19 Loss 0.1319\n",
            "Time taken for 1 epoch 143.96245503425598 sec\n",
            "\n",
            "Epoch 20 Batch 0 Loss 0.1066\n",
            "Epoch 20 Batch 100 Loss 0.1054\n",
            "Epoch 20 Loss 0.1079\n",
            "Time taken for 1 epoch 145.0636260509491 sec\n",
            "\n",
            "Epoch 21 Batch 0 Loss 0.0784\n",
            "Epoch 21 Batch 100 Loss 0.0992\n",
            "Epoch 21 Loss 0.0864\n",
            "Time taken for 1 epoch 144.3258285522461 sec\n",
            "\n",
            "Epoch 22 Batch 0 Loss 0.0589\n",
            "Epoch 22 Batch 100 Loss 0.0963\n",
            "Epoch 22 Loss 0.0691\n",
            "Time taken for 1 epoch 145.8790717124939 sec\n",
            "\n",
            "Epoch 23 Batch 0 Loss 0.0448\n",
            "Epoch 23 Batch 100 Loss 0.0584\n",
            "Epoch 23 Loss 0.0558\n",
            "Time taken for 1 epoch 142.85998582839966 sec\n",
            "\n",
            "Epoch 24 Batch 0 Loss 0.0363\n",
            "Epoch 24 Batch 100 Loss 0.0673\n",
            "Epoch 24 Loss 0.0453\n",
            "Time taken for 1 epoch 145.99910879135132 sec\n",
            "\n",
            "Epoch 25 Batch 0 Loss 0.0376\n",
            "Epoch 25 Batch 100 Loss 0.0280\n",
            "Epoch 25 Loss 0.0365\n",
            "Time taken for 1 epoch 144.062420129776 sec\n",
            "\n",
            "Epoch 26 Batch 0 Loss 0.0400\n"
          ],
          "name": "stdout"
        },
        {
          "output_type": "error",
          "ename": "KeyboardInterrupt",
          "evalue": "ignored",
          "traceback": [
            "\u001b[0;31m---------------------------------------------------------------------------\u001b[0m",
            "\u001b[0;31mKeyboardInterrupt\u001b[0m                         Traceback (most recent call last)",
            "\u001b[0;32m<ipython-input-29-4c22ed9d2a72>\u001b[0m in \u001b[0;36m<module>\u001b[0;34m()\u001b[0m\n\u001b[1;32m      8\u001b[0m \u001b[0;34m\u001b[0m\u001b[0m\n\u001b[1;32m      9\u001b[0m   \u001b[0;32mfor\u001b[0m \u001b[0;34m(\u001b[0m\u001b[0mbatch\u001b[0m\u001b[0;34m,\u001b[0m \u001b[0;34m(\u001b[0m\u001b[0minp\u001b[0m\u001b[0;34m,\u001b[0m \u001b[0mtarg\u001b[0m\u001b[0;34m)\u001b[0m\u001b[0;34m)\u001b[0m \u001b[0;32min\u001b[0m \u001b[0menumerate\u001b[0m\u001b[0;34m(\u001b[0m\u001b[0mdataset\u001b[0m\u001b[0;34m.\u001b[0m\u001b[0mtake\u001b[0m\u001b[0;34m(\u001b[0m\u001b[0msteps_per_epoch\u001b[0m\u001b[0;34m)\u001b[0m\u001b[0;34m)\u001b[0m\u001b[0;34m:\u001b[0m\u001b[0;34m\u001b[0m\u001b[0;34m\u001b[0m\u001b[0m\n\u001b[0;32m---> 10\u001b[0;31m     \u001b[0mbatch_loss\u001b[0m \u001b[0;34m=\u001b[0m \u001b[0mtrain_step\u001b[0m\u001b[0;34m(\u001b[0m\u001b[0minp\u001b[0m\u001b[0;34m,\u001b[0m \u001b[0mtarg\u001b[0m\u001b[0;34m,\u001b[0m \u001b[0menc_hidden\u001b[0m\u001b[0;34m)\u001b[0m\u001b[0;34m\u001b[0m\u001b[0;34m\u001b[0m\u001b[0m\n\u001b[0m\u001b[1;32m     11\u001b[0m     \u001b[0mtotal_loss\u001b[0m \u001b[0;34m+=\u001b[0m \u001b[0mbatch_loss\u001b[0m\u001b[0;34m\u001b[0m\u001b[0;34m\u001b[0m\u001b[0m\n\u001b[1;32m     12\u001b[0m \u001b[0;34m\u001b[0m\u001b[0m\n",
            "\u001b[0;32m/usr/local/lib/python3.6/dist-packages/tensorflow/python/eager/def_function.py\u001b[0m in \u001b[0;36m__call__\u001b[0;34m(self, *args, **kwds)\u001b[0m\n\u001b[1;32m    578\u001b[0m         \u001b[0mxla_context\u001b[0m\u001b[0;34m.\u001b[0m\u001b[0mExit\u001b[0m\u001b[0;34m(\u001b[0m\u001b[0;34m)\u001b[0m\u001b[0;34m\u001b[0m\u001b[0;34m\u001b[0m\u001b[0m\n\u001b[1;32m    579\u001b[0m     \u001b[0;32melse\u001b[0m\u001b[0;34m:\u001b[0m\u001b[0;34m\u001b[0m\u001b[0;34m\u001b[0m\u001b[0m\n\u001b[0;32m--> 580\u001b[0;31m       \u001b[0mresult\u001b[0m \u001b[0;34m=\u001b[0m \u001b[0mself\u001b[0m\u001b[0;34m.\u001b[0m\u001b[0m_call\u001b[0m\u001b[0;34m(\u001b[0m\u001b[0;34m*\u001b[0m\u001b[0margs\u001b[0m\u001b[0;34m,\u001b[0m \u001b[0;34m**\u001b[0m\u001b[0mkwds\u001b[0m\u001b[0;34m)\u001b[0m\u001b[0;34m\u001b[0m\u001b[0;34m\u001b[0m\u001b[0m\n\u001b[0m\u001b[1;32m    581\u001b[0m \u001b[0;34m\u001b[0m\u001b[0m\n\u001b[1;32m    582\u001b[0m     \u001b[0;32mif\u001b[0m \u001b[0mtracing_count\u001b[0m \u001b[0;34m==\u001b[0m \u001b[0mself\u001b[0m\u001b[0;34m.\u001b[0m\u001b[0m_get_tracing_count\u001b[0m\u001b[0;34m(\u001b[0m\u001b[0;34m)\u001b[0m\u001b[0;34m:\u001b[0m\u001b[0;34m\u001b[0m\u001b[0;34m\u001b[0m\u001b[0m\n",
            "\u001b[0;32m/usr/local/lib/python3.6/dist-packages/tensorflow/python/eager/def_function.py\u001b[0m in \u001b[0;36m_call\u001b[0;34m(self, *args, **kwds)\u001b[0m\n\u001b[1;32m    609\u001b[0m       \u001b[0;31m# In this case we have created variables on the first call, so we run the\u001b[0m\u001b[0;34m\u001b[0m\u001b[0;34m\u001b[0m\u001b[0;34m\u001b[0m\u001b[0m\n\u001b[1;32m    610\u001b[0m       \u001b[0;31m# defunned version which is guaranteed to never create variables.\u001b[0m\u001b[0;34m\u001b[0m\u001b[0;34m\u001b[0m\u001b[0;34m\u001b[0m\u001b[0m\n\u001b[0;32m--> 611\u001b[0;31m       \u001b[0;32mreturn\u001b[0m \u001b[0mself\u001b[0m\u001b[0;34m.\u001b[0m\u001b[0m_stateless_fn\u001b[0m\u001b[0;34m(\u001b[0m\u001b[0;34m*\u001b[0m\u001b[0margs\u001b[0m\u001b[0;34m,\u001b[0m \u001b[0;34m**\u001b[0m\u001b[0mkwds\u001b[0m\u001b[0;34m)\u001b[0m  \u001b[0;31m# pylint: disable=not-callable\u001b[0m\u001b[0;34m\u001b[0m\u001b[0;34m\u001b[0m\u001b[0m\n\u001b[0m\u001b[1;32m    612\u001b[0m     \u001b[0;32melif\u001b[0m \u001b[0mself\u001b[0m\u001b[0;34m.\u001b[0m\u001b[0m_stateful_fn\u001b[0m \u001b[0;32mis\u001b[0m \u001b[0;32mnot\u001b[0m \u001b[0;32mNone\u001b[0m\u001b[0;34m:\u001b[0m\u001b[0;34m\u001b[0m\u001b[0;34m\u001b[0m\u001b[0m\n\u001b[1;32m    613\u001b[0m       \u001b[0;31m# Release the lock early so that multiple threads can perform the call\u001b[0m\u001b[0;34m\u001b[0m\u001b[0;34m\u001b[0m\u001b[0;34m\u001b[0m\u001b[0m\n",
            "\u001b[0;32m/usr/local/lib/python3.6/dist-packages/tensorflow/python/eager/function.py\u001b[0m in \u001b[0;36m__call__\u001b[0;34m(self, *args, **kwargs)\u001b[0m\n\u001b[1;32m   2418\u001b[0m     \u001b[0;32mwith\u001b[0m \u001b[0mself\u001b[0m\u001b[0;34m.\u001b[0m\u001b[0m_lock\u001b[0m\u001b[0;34m:\u001b[0m\u001b[0;34m\u001b[0m\u001b[0;34m\u001b[0m\u001b[0m\n\u001b[1;32m   2419\u001b[0m       \u001b[0mgraph_function\u001b[0m\u001b[0;34m,\u001b[0m \u001b[0margs\u001b[0m\u001b[0;34m,\u001b[0m \u001b[0mkwargs\u001b[0m \u001b[0;34m=\u001b[0m \u001b[0mself\u001b[0m\u001b[0;34m.\u001b[0m\u001b[0m_maybe_define_function\u001b[0m\u001b[0;34m(\u001b[0m\u001b[0margs\u001b[0m\u001b[0;34m,\u001b[0m \u001b[0mkwargs\u001b[0m\u001b[0;34m)\u001b[0m\u001b[0;34m\u001b[0m\u001b[0;34m\u001b[0m\u001b[0m\n\u001b[0;32m-> 2420\u001b[0;31m     \u001b[0;32mreturn\u001b[0m \u001b[0mgraph_function\u001b[0m\u001b[0;34m.\u001b[0m\u001b[0m_filtered_call\u001b[0m\u001b[0;34m(\u001b[0m\u001b[0margs\u001b[0m\u001b[0;34m,\u001b[0m \u001b[0mkwargs\u001b[0m\u001b[0;34m)\u001b[0m  \u001b[0;31m# pylint: disable=protected-access\u001b[0m\u001b[0;34m\u001b[0m\u001b[0;34m\u001b[0m\u001b[0m\n\u001b[0m\u001b[1;32m   2421\u001b[0m \u001b[0;34m\u001b[0m\u001b[0m\n\u001b[1;32m   2422\u001b[0m   \u001b[0;34m@\u001b[0m\u001b[0mproperty\u001b[0m\u001b[0;34m\u001b[0m\u001b[0;34m\u001b[0m\u001b[0m\n",
            "\u001b[0;32m/usr/local/lib/python3.6/dist-packages/tensorflow/python/eager/function.py\u001b[0m in \u001b[0;36m_filtered_call\u001b[0;34m(self, args, kwargs)\u001b[0m\n\u001b[1;32m   1663\u001b[0m          if isinstance(t, (ops.Tensor,\n\u001b[1;32m   1664\u001b[0m                            resource_variable_ops.BaseResourceVariable))),\n\u001b[0;32m-> 1665\u001b[0;31m         self.captured_inputs)\n\u001b[0m\u001b[1;32m   1666\u001b[0m \u001b[0;34m\u001b[0m\u001b[0m\n\u001b[1;32m   1667\u001b[0m   \u001b[0;32mdef\u001b[0m \u001b[0m_call_flat\u001b[0m\u001b[0;34m(\u001b[0m\u001b[0mself\u001b[0m\u001b[0;34m,\u001b[0m \u001b[0margs\u001b[0m\u001b[0;34m,\u001b[0m \u001b[0mcaptured_inputs\u001b[0m\u001b[0;34m,\u001b[0m \u001b[0mcancellation_manager\u001b[0m\u001b[0;34m=\u001b[0m\u001b[0;32mNone\u001b[0m\u001b[0;34m)\u001b[0m\u001b[0;34m:\u001b[0m\u001b[0;34m\u001b[0m\u001b[0;34m\u001b[0m\u001b[0m\n",
            "\u001b[0;32m/usr/local/lib/python3.6/dist-packages/tensorflow/python/eager/function.py\u001b[0m in \u001b[0;36m_call_flat\u001b[0;34m(self, args, captured_inputs, cancellation_manager)\u001b[0m\n\u001b[1;32m   1744\u001b[0m       \u001b[0;31m# No tape is watching; skip to running the function.\u001b[0m\u001b[0;34m\u001b[0m\u001b[0;34m\u001b[0m\u001b[0;34m\u001b[0m\u001b[0m\n\u001b[1;32m   1745\u001b[0m       return self._build_call_outputs(self._inference_function.call(\n\u001b[0;32m-> 1746\u001b[0;31m           ctx, args, cancellation_manager=cancellation_manager))\n\u001b[0m\u001b[1;32m   1747\u001b[0m     forward_backward = self._select_forward_and_backward_functions(\n\u001b[1;32m   1748\u001b[0m         \u001b[0margs\u001b[0m\u001b[0;34m,\u001b[0m\u001b[0;34m\u001b[0m\u001b[0;34m\u001b[0m\u001b[0m\n",
            "\u001b[0;32m/usr/local/lib/python3.6/dist-packages/tensorflow/python/eager/function.py\u001b[0m in \u001b[0;36mcall\u001b[0;34m(self, ctx, args, cancellation_manager)\u001b[0m\n\u001b[1;32m    596\u001b[0m               \u001b[0minputs\u001b[0m\u001b[0;34m=\u001b[0m\u001b[0margs\u001b[0m\u001b[0;34m,\u001b[0m\u001b[0;34m\u001b[0m\u001b[0;34m\u001b[0m\u001b[0m\n\u001b[1;32m    597\u001b[0m               \u001b[0mattrs\u001b[0m\u001b[0;34m=\u001b[0m\u001b[0mattrs\u001b[0m\u001b[0;34m,\u001b[0m\u001b[0;34m\u001b[0m\u001b[0;34m\u001b[0m\u001b[0m\n\u001b[0;32m--> 598\u001b[0;31m               ctx=ctx)\n\u001b[0m\u001b[1;32m    599\u001b[0m         \u001b[0;32melse\u001b[0m\u001b[0;34m:\u001b[0m\u001b[0;34m\u001b[0m\u001b[0;34m\u001b[0m\u001b[0m\n\u001b[1;32m    600\u001b[0m           outputs = execute.execute_with_cancellation(\n",
            "\u001b[0;32m/usr/local/lib/python3.6/dist-packages/tensorflow/python/eager/execute.py\u001b[0m in \u001b[0;36mquick_execute\u001b[0;34m(op_name, num_outputs, inputs, attrs, ctx, name)\u001b[0m\n\u001b[1;32m     58\u001b[0m     \u001b[0mctx\u001b[0m\u001b[0;34m.\u001b[0m\u001b[0mensure_initialized\u001b[0m\u001b[0;34m(\u001b[0m\u001b[0;34m)\u001b[0m\u001b[0;34m\u001b[0m\u001b[0;34m\u001b[0m\u001b[0m\n\u001b[1;32m     59\u001b[0m     tensors = pywrap_tfe.TFE_Py_Execute(ctx._handle, device_name, op_name,\n\u001b[0;32m---> 60\u001b[0;31m                                         inputs, attrs, num_outputs)\n\u001b[0m\u001b[1;32m     61\u001b[0m   \u001b[0;32mexcept\u001b[0m \u001b[0mcore\u001b[0m\u001b[0;34m.\u001b[0m\u001b[0m_NotOkStatusException\u001b[0m \u001b[0;32mas\u001b[0m \u001b[0me\u001b[0m\u001b[0;34m:\u001b[0m\u001b[0;34m\u001b[0m\u001b[0;34m\u001b[0m\u001b[0m\n\u001b[1;32m     62\u001b[0m     \u001b[0;32mif\u001b[0m \u001b[0mname\u001b[0m \u001b[0;32mis\u001b[0m \u001b[0;32mnot\u001b[0m \u001b[0;32mNone\u001b[0m\u001b[0;34m:\u001b[0m\u001b[0;34m\u001b[0m\u001b[0;34m\u001b[0m\u001b[0m\n",
            "\u001b[0;31mKeyboardInterrupt\u001b[0m: "
          ]
        }
      ]
    },
    {
      "cell_type": "code",
      "metadata": {
        "id": "i2he1Z_MCT4G",
        "colab_type": "code",
        "colab": {}
      },
      "source": [
        "max_length_inp = pos_seq_tensors.shape[1]\n",
        "max_length_targ = pos_sel_seq_tensors.shape[1]\n",
        "inp_lang = lang_tokenizer\n",
        "targ_lang = lang_tokenizer"
      ],
      "execution_count": 0,
      "outputs": []
    },
    {
      "cell_type": "code",
      "metadata": {
        "id": "_0WgyMrc37Mo",
        "colab_type": "code",
        "colab": {}
      },
      "source": [
        "def evaluate(sentence):\n",
        "  attention_plot = np.zeros((max_length_targ, max_length_inp))\n",
        "\n",
        "  sentence = preprocess_sentence(sentence)\n",
        "\n",
        "  inputs = [inp_lang.word_index[i] for i in sentence.split(' ')]\n",
        "  inputs = tf.keras.preprocessing.sequence.pad_sequences([inputs],\n",
        "                                                         maxlen=max_length_inp,\n",
        "                                                         padding='post')\n",
        "  inputs = tf.convert_to_tensor(inputs)\n",
        "\n",
        "  result = ''\n",
        "\n",
        "  hidden = [tf.zeros((1, units))]\n",
        "  enc_out, enc_hidden = encoder(inputs, hidden)\n",
        "\n",
        "  dec_hidden = enc_hidden\n",
        "  dec_input = tf.expand_dims([targ_lang.word_index['<start>']], 0)\n",
        "\n",
        "  for t in range(max_length_targ):\n",
        "    predictions, dec_hidden, attention_weights = decoder(dec_input,\n",
        "                                                         dec_hidden,\n",
        "                                                         enc_out)\n",
        "\n",
        "    # storing the attention weights to plot later on\n",
        "    attention_weights = tf.reshape(attention_weights, (-1, ))\n",
        "    attention_plot[t] = attention_weights.numpy()\n",
        "\n",
        "    predicted_id = tf.argmax(predictions[0]).numpy()\n",
        "\n",
        "    result += targ_lang.index_word[predicted_id] + ' '\n",
        "\n",
        "    if targ_lang.index_word[predicted_id] == '<end>':\n",
        "      return result, sentence, attention_plot\n",
        "\n",
        "    # the predicted ID is fed back into the model\n",
        "    dec_input = tf.expand_dims([predicted_id], 0)\n",
        "\n",
        "  return result, sentence, attention_plot"
      ],
      "execution_count": 0,
      "outputs": []
    },
    {
      "cell_type": "code",
      "metadata": {
        "id": "6N7-qWHa5iSt",
        "colab_type": "code",
        "colab": {}
      },
      "source": [
        "# function for plotting the attention weights\n",
        "def plot_attention(attention, sentence, predicted_sentence):\n",
        "  fig = plt.figure(figsize=(10,10))\n",
        "  ax = fig.add_subplot(1, 1, 1)\n",
        "  ax.matshow(attention, cmap='viridis')\n",
        "\n",
        "  fontdict = {'fontsize': 14}\n",
        "\n",
        "  ax.set_xticklabels([''] + sentence, fontdict=fontdict, rotation=90)\n",
        "  ax.set_yticklabels([''] + predicted_sentence, fontdict=fontdict)\n",
        "\n",
        "  ax.xaxis.set_major_locator(ticker.MultipleLocator(1))\n",
        "  ax.yaxis.set_major_locator(ticker.MultipleLocator(1))\n",
        "\n",
        "  plt.show()"
      ],
      "execution_count": 0,
      "outputs": []
    },
    {
      "cell_type": "code",
      "metadata": {
        "id": "TMtcRX_SBhUa",
        "colab_type": "code",
        "colab": {}
      },
      "source": [
        "def translate(sentence):\n",
        "  result, sentence, attention_plot = evaluate(sentence)\n",
        "\n",
        "  print('Input: %s' % (sentence))\n",
        "  print('Predicted translation: {}'.format(result))\n",
        "  print('-'*40)\n",
        "\n",
        "  attention_plot = attention_plot[:len(result.split(' ')), :len(sentence.split(' '))]\n",
        "  #plot_attention(attention_plot, sentence.split(' '), result.split(' '))"
      ],
      "execution_count": 0,
      "outputs": []
    },
    {
      "cell_type": "code",
      "metadata": {
        "id": "MkTFC6pDBlMp",
        "colab_type": "code",
        "colab": {}
      },
      "source": [
        "p_test = test_df[test_df['sentiment'] == 'positive']"
      ],
      "execution_count": 0,
      "outputs": []
    },
    {
      "cell_type": "code",
      "metadata": {
        "id": "VunuKhp0BoEc",
        "colab_type": "code",
        "colab": {
          "base_uri": "https://localhost:8080/",
          "height": 1000
        },
        "outputId": "471cf19a-3db3-4770-92f5-579e8eac24cc"
      },
      "source": [
        "k = 30\n",
        "for t in p_test.text.values:\n",
        "  translate(t)\n",
        "  k -= 1\n",
        "  if k == 0:\n",
        "    break"
      ],
      "execution_count": 36,
      "outputs": [
        {
          "output_type": "stream",
          "text": [
            "Input: <start> shanghai is also really exciting precisely skyscrapers galore . good tweeps in china sh bj . <end>\n",
            "Predicted translation: good <end> \n",
            "----------------------------------------\n",
            "Input: <start> happy bday ! <end>\n",
            "Predicted translation: happy ! <end> \n",
            "----------------------------------------\n",
            "Input: <start> http twitpic . com w p i like it ! ! <end>\n",
            "Predicted translation: i like it ! <end> \n",
            "----------------------------------------\n",
            "Input: <start> that s great ! ! weee ! ! visitors ! <end>\n",
            "Predicted translation: great ! ! ! ! ! ! ! ! ! ! ! ! ! ! ! ! ! ! ! ! ! ! ! ! ! ! ! ! ! ! ! ! ! ! ! ! ! ! \n",
            "----------------------------------------\n",
            "Input: <start> you guys didn t say hi or answer my questions yesterday but nice songs . <end>\n",
            "Predicted translation: like <end> \n",
            "----------------------------------------\n",
            "Input: <start> thats so cool <end>\n",
            "Predicted translation: thats cool <end> \n",
            "----------------------------------------\n",
            "Input: <start> look who i found just for you http twitter . com djt <end>\n",
            "Predicted translation: i do trying to be right . <end> \n",
            "----------------------------------------\n",
            "Input: <start> watching body of lies . . . good film <end>\n",
            "Predicted translation: good <end> \n",
            "----------------------------------------\n",
            "Input: <start> happy mothers day mumm xoxo <end>\n",
            "Predicted translation: happy <end> \n",
            "----------------------------------------\n",
            "Input: <start> hi there . i agree ! small children should be running about happy , not breaking down in tears <end>\n",
            "Predicted translation: m happy mothers day <end> \n",
            "----------------------------------------\n",
            "Input: <start> hope ur havin fun in da club <end>\n",
            "Predicted translation: fun <end> \n",
            "----------------------------------------\n",
            "Input: <start> thinks sg is wonderful <end>\n",
            "Predicted translation: lovely <end> \n",
            "----------------------------------------\n",
            "Input: <start> thanks ennio <end>\n",
            "Predicted translation: thanks <end> \n",
            "----------------------------------------\n",
            "Input: <start> you seem nice , you re generous and you know your stuff <end>\n",
            "Predicted translation: nice to hear <end> \n",
            "----------------------------------------\n",
            "Input: <start> caladesi was definitely a nice peaceful way to spend a sunday ! i got a lil tan ! <end>\n",
            "Predicted translation: it was a nice time <end> \n",
            "----------------------------------------\n",
            "Input: <start> hi all , just recovering from a party , looking forward to an exciting bank holiday around the diy shops . . . life cant get much better . surely <end>\n",
            "Predicted translation: save <end> \n",
            "----------------------------------------\n",
            "Input: <start> on the monday , so i wont be able to be with you ! i love you <end>\n",
            "Predicted translation: i love <end> \n",
            "----------------------------------------\n",
            "Input: <start> ur so cute . . i m a fan of dream a little dream , this kiss and appearances like in dawson s creek make more flicks ! <end>\n",
            "Predicted translation: i m so much . <end> \n",
            "----------------------------------------\n",
            "Input: <start> lamont yr very young looking dude <end>\n",
            "Predicted translation: would be <end> \n",
            "----------------------------------------\n",
            "Input: <start> yep , i wish they were all playing dubiln <end>\n",
            "Predicted translation: i wish <end> \n",
            "----------------------------------------\n",
            "Input: <start> yay for block party ! you re the bomb ! blockheads dave ! thanks for supporting nkotb ! <end>\n",
            "Predicted translation: ! <end> \n",
            "----------------------------------------\n",
            "Input: <start> happy birthday snickers ! ! ! ! ? i hope you have the best day ever ! let s go shopping ! ! ! <end>\n",
            "Predicted translation: ! <end> \n",
            "----------------------------------------\n",
            "Input: <start> thank you ! i m working on s <end>\n",
            "Predicted translation: thank <end> \n",
            "----------------------------------------\n",
            "Input: <start> happy mothers day ! ! ! <end>\n",
            "Predicted translation: happy mothers day ! ! ! ! ! ! ! ! ! ! ! ! ! ! ! ! ! ! ! ! ! ! ! ! ! ! ! ! ! ! ! ! ! ! ! ! \n",
            "----------------------------------------\n",
            "Input: <start> happy star wars day ! may the fourth be with you <end>\n",
            "Predicted translation: happy star wars day <end> \n",
            "----------------------------------------\n",
            "Input: <start> haaaw . . well i get out of class at . . i hope i make it <end>\n",
            "Predicted translation: . i hope <end> \n",
            "----------------------------------------\n",
            "Input: <start> just had a great study time followed by a delicious japanese meal with arty ! now , trying to get back into the study mood <end>\n",
            "Predicted translation: had a great weekend ! <end> \n",
            "----------------------------------------\n",
            "Input: <start> i want to see david cook ! ! <end>\n",
            "Predicted translation: i want to see them ! <end> \n",
            "----------------------------------------\n",
            "Input: <start> yay about breaking ! <end>\n",
            "Predicted translation: yay <end> \n",
            "----------------------------------------\n",
            "Input: <start> i always have those for my champions league parties tis awesome <end>\n",
            "Predicted translation: as talented sway baby is my baby is my baby is my baby is my baby is my baby is my baby is my baby is my baby is my baby is my baby is my baby is my \n",
            "----------------------------------------\n"
          ],
          "name": "stdout"
        }
      ]
    },
    {
      "cell_type": "code",
      "metadata": {
        "id": "3xlJqO5lD8ae",
        "colab_type": "code",
        "colab": {
          "base_uri": "https://localhost:8080/",
          "height": 1000
        },
        "outputId": "a10effd6-018f-4dbd-9230-279c7d755b52"
      },
      "source": [
        "k = 30\n",
        "for t in test_df.text.values:\n",
        "  translate(t)\n",
        "  k -= 1\n",
        "  if k == 0:\n",
        "    break"
      ],
      "execution_count": 37,
      "outputs": [
        {
          "output_type": "stream",
          "text": [
            "Input: <start> last session of the day http twitpic . com ezh <end>\n",
            "Predicted translation: not a day <end> \n",
            "----------------------------------------\n",
            "Input: <start> shanghai is also really exciting precisely skyscrapers galore . good tweeps in china sh bj . <end>\n",
            "Predicted translation: good <end> \n",
            "----------------------------------------\n",
            "Input: <start> recession hit veronique branquinho , she has to quit her company , such a shame ! <end>\n",
            "Predicted translation: loved her to have a safe to have a safe to have a safe to have a safe to have a safe to have a safe to have a safe to have a safe to have a safe to \n",
            "----------------------------------------\n",
            "Input: <start> happy bday ! <end>\n",
            "Predicted translation: happy ! <end> \n",
            "----------------------------------------\n",
            "Input: <start> http twitpic . com w p i like it ! ! <end>\n",
            "Predicted translation: i like it ! <end> \n",
            "----------------------------------------\n",
            "Input: <start> that s great ! ! weee ! ! visitors ! <end>\n",
            "Predicted translation: great ! ! ! ! ! ! ! ! ! ! ! ! ! ! ! ! ! ! ! ! ! ! ! ! ! ! ! ! ! ! ! ! ! ! ! ! ! ! \n",
            "----------------------------------------\n",
            "Input: <start> i think everyone hates me on here lol <end>\n",
            "Predicted translation: i cant wait <end> \n",
            "----------------------------------------\n",
            "Input: <start> soooooo wish i could , but im in school and myspace is completely blocked <end>\n",
            "Predicted translation: straight you , <end> \n",
            "----------------------------------------\n",
            "Input: <start> and within a short time of the last clue all of them <end>\n",
            "Predicted translation: may <end> \n",
            "----------------------------------------\n",
            "Input: <start> what did you get ? my day is alright . . haven t done anything yet . leaving soon to my stepsister though ! <end>\n",
            "Predicted translation: loved <end> \n",
            "----------------------------------------\n",
            "Input: <start> my bike was put on hold . . . should have known that . . . . argh total bummer <end>\n",
            "Predicted translation: my fav . <end> \n",
            "----------------------------------------\n",
            "Input: <start> i checked . we didn t win <end>\n",
            "Predicted translation: i won t want <end> \n",
            "----------------------------------------\n",
            "Input: <start> . . and you re on twitter ! did the tavern bore you that much ? <end>\n",
            "Predicted translation: . you are you . <end> \n",
            "----------------------------------------\n",
            "Input: <start> i m in va for the weekend , my youngest son turns tomorrow . . . . . . it makes me kinda sad , he is getting so big , check out my twipics <end>\n",
            "Predicted translation: i m so at least its right in for the last work for the last work for the last work for the last work for the last work for the last work for the last work for the last \n",
            "----------------------------------------\n",
            "Input: <start> its coming out the socket i feel like my phones hole is not a virgin . that s how loose it is . . . <end>\n",
            "Predicted translation: i feel the one <end> \n",
            "----------------------------------------\n",
            "Input: <start> so hot today don t like it and i hate my new timetable , having such a bad week <end>\n",
            "Predicted translation: like it s a bad have a bad have a bad have a bad have a bad have a bad have a bad have a bad have a bad have a bad have a bad have a bad have \n",
            "----------------------------------------\n",
            "Input: <start> miss you <end>\n",
            "Predicted translation: thx <end> \n",
            "----------------------------------------\n",
            "Input: <start> cramps . . . <end>\n",
            "Predicted translation: hugs <end> \n",
            "----------------------------------------\n",
            "Input: <start> you guys didn t say hi or answer my questions yesterday but nice songs . <end>\n",
            "Predicted translation: like <end> \n",
            "----------------------------------------\n",
            "Input: <start> i m going into a spiritual stagnentation , its exploding my ego ! . i now realise , i m not all that great . and i m ok with that . <end>\n",
            "Predicted translation: super great . <end> \n",
            "----------------------------------------\n",
            "Input: <start> stupid storm . no river for us tonight <end>\n",
            "Predicted translation: enjoy <end> \n",
            "----------------------------------------\n",
            "Input: <start> my dead grandpa pays more attention to me than you do <end>\n",
            "Predicted translation: better <end> \n",
            "----------------------------------------\n",
            "Input: <start> . . . need retail therapy , bad . ahhh . . . . . gimme money geebus <end>\n",
            "Predicted translation: . . . . . . . . . . . . . . . . . . . . . . . . . . . . . . . . . . . . . . . \n",
            "----------------------------------------\n",
            "Input: <start> about to go to sleep <end>\n",
            "Predicted translation: will be <end> \n",
            "----------------------------------------\n",
            "Input: <start> you are lame go make me breakfast ! ! <end>\n",
            "Predicted translation: you are so much ! <end> \n",
            "----------------------------------------\n",
            "Input: <start> thats so cool <end>\n",
            "Predicted translation: thats cool <end> \n",
            "----------------------------------------\n",
            "Input: <start> hey peoples , dont you just hate being grounded haha , im just sat eating an apple and watching death note some anime <end>\n",
            "Predicted translation: e , <end> \n",
            "----------------------------------------\n",
            "Input: <start> huh , another scarepoint coding sunday <end>\n",
            "Predicted translation: what is free <end> \n",
            "----------------------------------------\n",
            "Input: <start> look who i found just for you http twitter . com djt <end>\n",
            "Predicted translation: i do trying to be right . <end> \n",
            "----------------------------------------\n",
            "Input: <start> no ac , the fan doesnt swing our way . . . we are sweating it out on a hot humid day <end>\n",
            "Predicted translation: good <end> \n",
            "----------------------------------------\n"
          ],
          "name": "stdout"
        }
      ]
    },
    {
      "cell_type": "code",
      "metadata": {
        "id": "iTz89zYUyS7t",
        "colab_type": "code",
        "colab": {}
      },
      "source": [
        ""
      ],
      "execution_count": 0,
      "outputs": []
    }
  ]
}