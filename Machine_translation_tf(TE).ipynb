{
  "nbformat": 4,
  "nbformat_minor": 0,
  "metadata": {
    "colab": {
      "name": "Machine_translation_tf(TE).ipynb",
      "provenance": [],
      "authorship_tag": "ABX9TyPtAkBlnxEd/Uisre0NjSOY",
      "include_colab_link": true
    },
    "kernelspec": {
      "name": "python3",
      "display_name": "Python 3"
    },
    "accelerator": "GPU"
  },
  "cells": [
    {
      "cell_type": "markdown",
      "metadata": {
        "id": "view-in-github",
        "colab_type": "text"
      },
      "source": [
        "<a href=\"https://colab.research.google.com/github/shobhitsundriyal/rand_ideas/blob/master/Machine_translation_tf(TE).ipynb\" target=\"_parent\"><img src=\"https://colab.research.google.com/assets/colab-badge.svg\" alt=\"Open In Colab\"/></a>"
      ]
    },
    {
      "cell_type": "code",
      "metadata": {
        "id": "2LhoCMOLeNnC",
        "colab_type": "code",
        "outputId": "1815c804-e2a5-44a3-f530-156e102aaba4",
        "colab": {
          "base_uri": "https://localhost:8080/",
          "height": 207
        }
      },
      "source": [
        "!wget \"http://www.manythings.org/anki/hin-eng.zip\""
      ],
      "execution_count": 5,
      "outputs": [
        {
          "output_type": "stream",
          "text": [
            "--2020-05-26 00:38:23--  http://www.manythings.org/anki/hin-eng.zip\n",
            "Resolving www.manythings.org (www.manythings.org)... 104.24.108.196, 104.24.109.196, 2606:4700:3033::6818:6dc4, ...\n",
            "Connecting to www.manythings.org (www.manythings.org)|104.24.108.196|:80... connected.\n",
            "HTTP request sent, awaiting response... 200 OK\n",
            "Length: 126449 (123K) [application/zip]\n",
            "Saving to: ‘hin-eng.zip’\n",
            "\n",
            "\rhin-eng.zip           0%[                    ]       0  --.-KB/s               \rhin-eng.zip          17%[==>                 ]  21.89K   103KB/s               \rhin-eng.zip          68%[============>       ]  84.91K   199KB/s               \rhin-eng.zip         100%[===================>] 123.49K   230KB/s    in 0.5s    \n",
            "\n",
            "2020-05-26 00:38:24 (230 KB/s) - ‘hin-eng.zip’ saved [126449/126449]\n",
            "\n"
          ],
          "name": "stdout"
        }
      ]
    },
    {
      "cell_type": "code",
      "metadata": {
        "id": "DcfAd5YQeb51",
        "colab_type": "code",
        "colab": {
          "base_uri": "https://localhost:8080/",
          "height": 69
        },
        "outputId": "ff1e54f2-d6cc-45cd-fc25-9bd997168c18"
      },
      "source": [
        "!unzip \"hin-eng.zip\""
      ],
      "execution_count": 6,
      "outputs": [
        {
          "output_type": "stream",
          "text": [
            "Archive:  hin-eng.zip\n",
            "  inflating: hin.txt                 \n",
            "  inflating: _about.txt              \n"
          ],
          "name": "stdout"
        }
      ]
    },
    {
      "cell_type": "code",
      "metadata": {
        "id": "JXfHQTcRuYpZ",
        "colab_type": "code",
        "colab": {
          "base_uri": "https://localhost:8080/",
          "height": 138
        },
        "outputId": "cfd5a31d-827c-47c8-e4b7-238fbb4bc2f8"
      },
      "source": [
        "! mkdir ~/.kaggle\n",
        "! cp kaggle.json ~/.kaggle/\n",
        "! chmod 600 ~/.kaggle/kaggle.json\n",
        "! kaggle competitions download -c \"tweet-sentiment-extraction\"\n",
        "!unzip 'train.csv.zip'"
      ],
      "execution_count": 1,
      "outputs": [
        {
          "output_type": "stream",
          "text": [
            "mkdir: cannot create directory ‘/root/.kaggle’: File exists\n",
            "Warning: Looks like you're using an outdated API Version, please consider updating (server 1.5.6 / client 1.5.4)\n",
            "sample_submission.csv: Skipping, found more recently modified local copy (use --force to force download)\n",
            "test.csv: Skipping, found more recently modified local copy (use --force to force download)\n",
            "train.csv.zip: Skipping, found more recently modified local copy (use --force to force download)\n",
            "Archive:  train.csv.zip\n",
            "replace train.csv? [y]es, [n]o, [A]ll, [N]one, [r]ename: n\n"
          ],
          "name": "stdout"
        }
      ]
    },
    {
      "cell_type": "code",
      "metadata": {
        "id": "haGdGD-7uYmT",
        "colab_type": "code",
        "colab": {}
      },
      "source": [
        "import pandas as pd\n",
        "train_df = pd.read_csv('train.csv')\n",
        "test_df = pd.read_csv('test.csv')"
      ],
      "execution_count": 0,
      "outputs": []
    },
    {
      "cell_type": "code",
      "metadata": {
        "id": "rU6bQI5wekjV",
        "colab_type": "code",
        "colab": {}
      },
      "source": [
        "import tensorflow as tf\n",
        "\n",
        "import matplotlib.pyplot as plt\n",
        "import matplotlib.ticker as ticker\n",
        "from sklearn.model_selection import train_test_split\n",
        "\n",
        "import unicodedata\n",
        "import re\n",
        "import numpy as np\n",
        "import os\n",
        "import io\n",
        "import time"
      ],
      "execution_count": 0,
      "outputs": []
    },
    {
      "cell_type": "code",
      "metadata": {
        "id": "Im9AmKwWtmVa",
        "colab_type": "code",
        "colab": {}
      },
      "source": [
        "def unicode_to_ascii(s):\n",
        "  return ''.join(c for c in unicodedata.normalize('NFD', s)\n",
        "      if unicodedata.category(c) != 'Mn')\n",
        "\n",
        "\n",
        "def preprocess_sentence(w):\n",
        "  w = unicode_to_ascii(w.lower().strip())\n",
        "\n",
        "  # creating a space between a word and the punctuation following it\n",
        "  # eg: \"he is a boy.\" => \"he is a boy .\"\n",
        "  # Reference:- https://stackoverflow.com/questions/3645931/python-padding-punctuation-with-white-spaces-keeping-punctuation\n",
        "  w = re.sub(r\"([?.!,¿])\", r\" \\1 \", w)\n",
        "  w = re.sub(r'[\" \"]+', \" \", w)\n",
        "\n",
        "  # replacing everything with space except (a-z, A-Z, \".\", \"?\", \"!\", \",\")\n",
        "  w = re.sub(r\"[^a-zA-Z?.!,¿]+\", \" \", w)\n",
        "\n",
        "  w = w.strip()\n",
        "\n",
        "  # adding a start and an end token to the sentence\n",
        "  # so that the model know when to start and stop predicting.\n",
        "  w = '<start> ' + w + ' <end>'\n",
        "  return w"
      ],
      "execution_count": 0,
      "outputs": []
    },
    {
      "cell_type": "code",
      "metadata": {
        "id": "fcDuHFT3t0AT",
        "colab_type": "code",
        "colab": {}
      },
      "source": [
        "def create_dataset(df, sentiment=None, test_data=False):\n",
        "  if test_data:\n",
        "    t = df.text\n",
        "    t = t.apply(lambda w: preprocess_sentence(str(w)))\n",
        "    return t.tolist()\n",
        "\n",
        "  else:\n",
        "    if sentiment != None:\n",
        "      t = df.text[df['sentiment'] == sentiment]\n",
        "      st = df.selected_text[df['sentiment'] == sentiment]\n",
        "      t = t.apply(lambda w: preprocess_sentence(str(w)))\n",
        "      st = st.apply(lambda w: preprocess_sentence(str(w)))\n",
        "\n",
        "    else:\n",
        "      t = df.text\n",
        "      st = df.selected_text\n",
        "      t = t.apply(lambda w: preprocess_sentence(str(w)))\n",
        "      st = st.apply(lambda w: preprocess_sentence(str(w)))\n",
        "\n",
        "    return t.tolist(), st.tolist()"
      ],
      "execution_count": 0,
      "outputs": []
    },
    {
      "cell_type": "code",
      "metadata": {
        "id": "05Ga0KlWuGLs",
        "colab_type": "code",
        "colab": {
          "base_uri": "https://localhost:8080/",
          "height": 52
        },
        "outputId": "853c87af-2d32-4201-d4fd-bc01c23f75e0"
      },
      "source": [
        "pos_text, pos_sel_text = create_dataset(train_df, 'positive')\n",
        "neg_text, neg_sel_text = create_dataset(train_df, 'negative')\n",
        "\n",
        "pos_text = pos_text + neg_text\n",
        "pos_sel_text = pos_sel_text + neg_sel_text #trying both \n",
        "\n",
        "print(pos_text[-1])\n",
        "print(pos_sel_text[-1])"
      ],
      "execution_count": 6,
      "outputs": [
        {
          "output_type": "stream",
          "text": [
            "<start> i ve wondered about rake to . the client has made it clear . net only , don t force devs to learn a new lang agile ccnet <end>\n",
            "<start> , don t force <end>\n"
          ],
          "name": "stdout"
        }
      ]
    },
    {
      "cell_type": "code",
      "metadata": {
        "id": "ufs4QqyY2B2d",
        "colab_type": "code",
        "colab": {
          "base_uri": "https://localhost:8080/",
          "height": 34
        },
        "outputId": "9ce6aea5-7d7f-45ed-d073-a7630751afa4"
      },
      "source": [
        "print(len(pos_text))"
      ],
      "execution_count": 7,
      "outputs": [
        {
          "output_type": "stream",
          "text": [
            "16363\n"
          ],
          "name": "stdout"
        }
      ]
    },
    {
      "cell_type": "code",
      "metadata": {
        "id": "HdMw6cj_wm3b",
        "colab_type": "code",
        "colab": {}
      },
      "source": [
        "def tokenize(lang):\n",
        "  lang_tokenizer = tf.keras.preprocessing.text.Tokenizer(\n",
        "      filters='')\n",
        "  lang_tokenizer.fit_on_texts(lang)\n",
        "\n",
        "  tensor = lang_tokenizer.texts_to_sequences(lang)\n",
        "\n",
        "  tensor = tf.keras.preprocessing.sequence.pad_sequences(tensor,\n",
        "                                                         padding='post')\n",
        "\n",
        "  return tensor, lang_tokenizer"
      ],
      "execution_count": 0,
      "outputs": []
    },
    {
      "cell_type": "code",
      "metadata": {
        "id": "1TdTEVVzx40i",
        "colab_type": "code",
        "colab": {}
      },
      "source": [
        "def load_dataset(path, num_examples=None):#xxxxxxxxxxxxxxxxxxxxxxxxxxxxxxxxxxxxxxxxxxxxxxxxxx\n",
        "  # creating cleaned input, output pairs\n",
        "  targ_lang, inp_lang = create_dataset(path, num_examples)\n",
        "\n",
        "  input_tensor, inp_lang_tokenizer = tokenize(inp_lang)\n",
        "  target_tensor, targ_lang_tokenizer = tokenize(targ_lang)\n",
        "\n",
        "  return input_tensor, target_tensor, inp_lang_tokenizer, targ_lang_tokenizer"
      ],
      "execution_count": 0,
      "outputs": []
    },
    {
      "cell_type": "code",
      "metadata": {
        "id": "TJFy705uyEQI",
        "colab_type": "code",
        "colab": {}
      },
      "source": [
        "vocab = create_dataset(train_df, test_data=True) + create_dataset(test_df, test_data=True)"
      ],
      "execution_count": 0,
      "outputs": []
    },
    {
      "cell_type": "code",
      "metadata": {
        "id": "uoxpL3Bw0fm5",
        "colab_type": "code",
        "colab": {}
      },
      "source": [
        "lang_tokenizer = tf.keras.preprocessing.text.Tokenizer(\n",
        "                 filters='')\n",
        "lang_tokenizer.fit_on_texts(vocab)\n",
        "\n",
        "pos_seq_tensors = lang_tokenizer.texts_to_sequences(pos_text)\n",
        "pos_sel_seq_tensors = lang_tokenizer.texts_to_sequences(pos_sel_text)\n",
        "\n",
        "pos_seq_tensors = tf.keras.preprocessing.sequence.pad_sequences(pos_seq_tensors,\n",
        "                                                         padding='post')\n",
        "pos_sel_seq_tensors = tf.keras.preprocessing.sequence.pad_sequences(pos_sel_seq_tensors,\n",
        "                                                         padding='post')"
      ],
      "execution_count": 0,
      "outputs": []
    },
    {
      "cell_type": "code",
      "metadata": {
        "id": "SQ8YArao0g2b",
        "colab_type": "code",
        "colab": {
          "base_uri": "https://localhost:8080/",
          "height": 52
        },
        "outputId": "d5538c9d-fb01-48db-b285-2f66ca839085"
      },
      "source": [
        "print(pos_seq_tensors.shape)\n",
        "print(pos_sel_seq_tensors.shape)"
      ],
      "execution_count": 12,
      "outputs": [
        {
          "output_type": "stream",
          "text": [
            "(16363, 89)\n",
            "(16363, 65)\n"
          ],
          "name": "stdout"
        }
      ]
    },
    {
      "cell_type": "code",
      "metadata": {
        "id": "gkPcVy-V1_cn",
        "colab_type": "code",
        "colab": {
          "base_uri": "https://localhost:8080/",
          "height": 34
        },
        "outputId": "a248283e-0fba-43d6-d503-f4251f8b22fd"
      },
      "source": [
        "# Creating training and validation sets using an 80-20 split\n",
        "input_tensor_train, input_tensor_val, target_tensor_train, target_tensor_val = train_test_split(pos_seq_tensors, pos_sel_seq_tensors, test_size=0.2)\n",
        "\n",
        "# Show length\n",
        "print(len(input_tensor_train), len(target_tensor_train), len(input_tensor_val), len(target_tensor_val))"
      ],
      "execution_count": 13,
      "outputs": [
        {
          "output_type": "stream",
          "text": [
            "13090 13090 3273 3273\n"
          ],
          "name": "stdout"
        }
      ]
    },
    {
      "cell_type": "code",
      "metadata": {
        "id": "WEWgMMUM2mtU",
        "colab_type": "code",
        "colab": {}
      },
      "source": [
        "def convert(vocab, tensor):\n",
        "  for t in tensor:\n",
        "    if t!=0:\n",
        "      print (\"%d ----> %s\" % (t, vocab.index_word[t]))"
      ],
      "execution_count": 0,
      "outputs": []
    },
    {
      "cell_type": "code",
      "metadata": {
        "id": "tWG65aRQ203k",
        "colab_type": "code",
        "colab": {
          "base_uri": "https://localhost:8080/",
          "height": 449
        },
        "outputId": "705f6763-1fb9-4e68-b319-ab2fa07b5993"
      },
      "source": [
        "print (\"Input Language; index to word mapping\")\n",
        "convert(lang_tokenizer, input_tensor_train[0])\n",
        "print ()\n",
        "print (\"Target Language; index to word mapping\")\n",
        "convert(lang_tokenizer, target_tensor_train[0])"
      ],
      "execution_count": 15,
      "outputs": [
        {
          "output_type": "stream",
          "text": [
            "Input Language; index to word mapping\n",
            "2 ----> <start>\n",
            "48 ----> your\n",
            "344 ----> making\n",
            "22 ----> me\n",
            "670 ----> jealous\n",
            "38 ----> now\n",
            "4 ----> i\n",
            "84 ----> want\n",
            "60 ----> one\n",
            "5 ----> !\n",
            "83 ----> how\n",
            "178 ----> long\n",
            "25 ----> have\n",
            "59 ----> u\n",
            "216 ----> guys\n",
            "108 ----> been\n",
            "1432 ----> married\n",
            "14 ----> ?\n",
            "3 ----> <end>\n",
            "\n",
            "Target Language; index to word mapping\n",
            "2 ----> <start>\n",
            "670 ----> jealous\n",
            "3 ----> <end>\n"
          ],
          "name": "stdout"
        }
      ]
    },
    {
      "cell_type": "code",
      "metadata": {
        "id": "les2Y13T26-G",
        "colab_type": "code",
        "colab": {}
      },
      "source": [
        "BUFFER_SIZE = len(input_tensor_train)\n",
        "BATCH_SIZE = 64\n",
        "steps_per_epoch = len(input_tensor_train)//BATCH_SIZE\n",
        "embedding_dim = 256\n",
        "units = 1024\n",
        "vocab_inp_size = len(lang_tokenizer.word_index)+1\n",
        "vocab_tar_size = len(lang_tokenizer.word_index)+1\n",
        "\n",
        "dataset = tf.data.Dataset.from_tensor_slices((input_tensor_train, target_tensor_train)).shuffle(BUFFER_SIZE)\n",
        "dataset = dataset.batch(BATCH_SIZE, drop_remainder=True)"
      ],
      "execution_count": 0,
      "outputs": []
    },
    {
      "cell_type": "code",
      "metadata": {
        "id": "m5sBnnbr3O1Y",
        "colab_type": "code",
        "colab": {
          "base_uri": "https://localhost:8080/",
          "height": 34
        },
        "outputId": "e4f487aa-2c2f-4bd9-d3f1-2adda6450436"
      },
      "source": [
        "example_input_batch, example_target_batch = next(iter(dataset))\n",
        "example_input_batch.shape, example_target_batch.shape"
      ],
      "execution_count": 17,
      "outputs": [
        {
          "output_type": "execute_result",
          "data": {
            "text/plain": [
              "(TensorShape([64, 89]), TensorShape([64, 65]))"
            ]
          },
          "metadata": {
            "tags": []
          },
          "execution_count": 17
        }
      ]
    },
    {
      "cell_type": "markdown",
      "metadata": {
        "id": "c05_t5-p3dwk",
        "colab_type": "text"
      },
      "source": [
        "---"
      ]
    },
    {
      "cell_type": "code",
      "metadata": {
        "id": "8HZS28Mi3W_z",
        "colab_type": "code",
        "colab": {}
      },
      "source": [
        "class Encoder(tf.keras.Model):\n",
        "  def __init__(self, vocab_size, embedding_dim, enc_units, batch_sz):\n",
        "    super(Encoder, self).__init__()\n",
        "    self.batch_sz = batch_sz\n",
        "    self.enc_units = enc_units\n",
        "    self.embedding = tf.keras.layers.Embedding(vocab_size, embedding_dim)\n",
        "    self.gru = tf.keras.layers.GRU(self.enc_units,\n",
        "                                   return_sequences=True,\n",
        "                                   return_state=True,\n",
        "                                   recurrent_initializer='glorot_uniform')\n",
        "\n",
        "  def call(self, x, hidden):\n",
        "    x = self.embedding(x)\n",
        "    output, state = self.gru(x, initial_state = hidden)\n",
        "    return output, state\n",
        "\n",
        "  def initialize_hidden_state(self):\n",
        "    return tf.zeros((self.batch_sz, self.enc_units))"
      ],
      "execution_count": 0,
      "outputs": []
    },
    {
      "cell_type": "code",
      "metadata": {
        "id": "1D1rHPn63evo",
        "colab_type": "code",
        "colab": {
          "base_uri": "https://localhost:8080/",
          "height": 52
        },
        "outputId": "f67afad6-22e7-49b8-aee2-8271468918a2"
      },
      "source": [
        "encoder = Encoder(vocab_inp_size, embedding_dim, units, BATCH_SIZE)\n",
        "\n",
        "# sample input\n",
        "sample_hidden = encoder.initialize_hidden_state()\n",
        "sample_output, sample_hidden = encoder(example_input_batch, sample_hidden)\n",
        "print ('Encoder output shape: (batch size, sequence length, units) {}'.format(sample_output.shape))\n",
        "print ('Encoder Hidden state shape: (batch size, units) {}'.format(sample_hidden.shape))"
      ],
      "execution_count": 19,
      "outputs": [
        {
          "output_type": "stream",
          "text": [
            "Encoder output shape: (batch size, sequence length, units) (64, 89, 1024)\n",
            "Encoder Hidden state shape: (batch size, units) (64, 1024)\n"
          ],
          "name": "stdout"
        }
      ]
    },
    {
      "cell_type": "code",
      "metadata": {
        "id": "xVZdZtia3hKi",
        "colab_type": "code",
        "colab": {}
      },
      "source": [
        "class BahdanauAttention(tf.keras.layers.Layer):\n",
        "  def __init__(self, units):\n",
        "    super(BahdanauAttention, self).__init__()\n",
        "    self.W1 = tf.keras.layers.Dense(units)\n",
        "    self.W2 = tf.keras.layers.Dense(units)\n",
        "    self.V = tf.keras.layers.Dense(1)\n",
        "\n",
        "  def call(self, query, values):\n",
        "    # query hidden state shape == (batch_size, hidden size)\n",
        "    # query_with_time_axis shape == (batch_size, 1, hidden size)\n",
        "    # values shape == (batch_size, max_len, hidden size)\n",
        "    # we are doing this to broadcast addition along the time axis to calculate the score\n",
        "    query_with_time_axis = tf.expand_dims(query, 1)\n",
        "\n",
        "    # score shape == (batch_size, max_length, 1)\n",
        "    # we get 1 at the last axis because we are applying score to self.V\n",
        "    # the shape of the tensor before applying self.V is (batch_size, max_length, units)\n",
        "    score = self.V(tf.nn.tanh(\n",
        "        self.W1(query_with_time_axis) + self.W2(values)))\n",
        "\n",
        "    # attention_weights shape == (batch_size, max_length, 1)\n",
        "    attention_weights = tf.nn.softmax(score, axis=1)\n",
        "\n",
        "    # context_vector shape after sum == (batch_size, hidden_size)\n",
        "    context_vector = attention_weights * values\n",
        "    context_vector = tf.reduce_sum(context_vector, axis=1)\n",
        "\n",
        "    return context_vector, attention_weights"
      ],
      "execution_count": 0,
      "outputs": []
    },
    {
      "cell_type": "code",
      "metadata": {
        "id": "IGLADfjU3kaE",
        "colab_type": "code",
        "colab": {
          "base_uri": "https://localhost:8080/",
          "height": 52
        },
        "outputId": "8edf79fa-3b02-4981-981b-3fcc7794c516"
      },
      "source": [
        "attention_layer = BahdanauAttention(10)\n",
        "attention_result, attention_weights = attention_layer(sample_hidden, sample_output)\n",
        "\n",
        "print(\"Attention result shape: (batch size, units) {}\".format(attention_result.shape))\n",
        "print(\"Attention weights shape: (batch_size, sequence_length, 1) {}\".format(attention_weights.shape))"
      ],
      "execution_count": 21,
      "outputs": [
        {
          "output_type": "stream",
          "text": [
            "Attention result shape: (batch size, units) (64, 1024)\n",
            "Attention weights shape: (batch_size, sequence_length, 1) (64, 89, 1)\n"
          ],
          "name": "stdout"
        }
      ]
    },
    {
      "cell_type": "code",
      "metadata": {
        "id": "Y7Xc7VEb3m9C",
        "colab_type": "code",
        "colab": {}
      },
      "source": [
        "class Decoder(tf.keras.Model):\n",
        "  def __init__(self, vocab_size, embedding_dim, dec_units, batch_sz):\n",
        "    super(Decoder, self).__init__()\n",
        "    self.batch_sz = batch_sz\n",
        "    self.dec_units = dec_units\n",
        "    self.embedding = tf.keras.layers.Embedding(vocab_size, embedding_dim)\n",
        "    self.gru = tf.keras.layers.GRU(self.dec_units,\n",
        "                                   return_sequences=True,\n",
        "                                   return_state=True,\n",
        "                                   recurrent_initializer='glorot_uniform')\n",
        "    self.fc = tf.keras.layers.Dense(vocab_size)\n",
        "\n",
        "    # used for attention\n",
        "    self.attention = BahdanauAttention(self.dec_units)\n",
        "\n",
        "  def call(self, x, hidden, enc_output):\n",
        "    # enc_output shape == (batch_size, max_length, hidden_size)\n",
        "    context_vector, attention_weights = self.attention(hidden, enc_output)\n",
        "\n",
        "    # x shape after passing through embedding == (batch_size, 1, embedding_dim)\n",
        "    x = self.embedding(x)\n",
        "\n",
        "    # x shape after concatenation == (batch_size, 1, embedding_dim + hidden_size)\n",
        "    x = tf.concat([tf.expand_dims(context_vector, 1), x], axis=-1)\n",
        "\n",
        "    # passing the concatenated vector to the GRU\n",
        "    output, state = self.gru(x)\n",
        "\n",
        "    # output shape == (batch_size * 1, hidden_size)\n",
        "    output = tf.reshape(output, (-1, output.shape[2]))\n",
        "\n",
        "    # output shape == (batch_size, vocab)\n",
        "    x = self.fc(output)\n",
        "\n",
        "    return x, state, attention_weights"
      ],
      "execution_count": 0,
      "outputs": []
    },
    {
      "cell_type": "code",
      "metadata": {
        "id": "yLF-7l5y3phS",
        "colab_type": "code",
        "colab": {
          "base_uri": "https://localhost:8080/",
          "height": 34
        },
        "outputId": "4ac1bca7-823b-4aef-954c-276a80cb4046"
      },
      "source": [
        "decoder = Decoder(vocab_tar_size, embedding_dim, units, BATCH_SIZE)\n",
        "\n",
        "sample_decoder_output, _, _ = decoder(tf.random.uniform((BATCH_SIZE, 1)),\n",
        "                                      sample_hidden, sample_output)\n",
        "\n",
        "print ('Decoder output shape: (batch_size, vocab size) {}'.format(sample_decoder_output.shape))"
      ],
      "execution_count": 23,
      "outputs": [
        {
          "output_type": "stream",
          "text": [
            "Decoder output shape: (batch_size, vocab size) (64, 26469)\n"
          ],
          "name": "stdout"
        }
      ]
    },
    {
      "cell_type": "code",
      "metadata": {
        "id": "AedQ8bJ63skp",
        "colab_type": "code",
        "colab": {}
      },
      "source": [
        "optimizer = tf.keras.optimizers.Adam()\n",
        "loss_object = tf.keras.losses.SparseCategoricalCrossentropy(\n",
        "    from_logits=True, reduction='none')\n",
        "\n",
        "def loss_function(real, pred):\n",
        "  mask = tf.math.logical_not(tf.math.equal(real, 0))\n",
        "  loss_ = loss_object(real, pred)\n",
        "\n",
        "  mask = tf.cast(mask, dtype=loss_.dtype)\n",
        "  loss_ *= mask\n",
        "\n",
        "  return tf.reduce_mean(loss_)"
      ],
      "execution_count": 0,
      "outputs": []
    },
    {
      "cell_type": "code",
      "metadata": {
        "id": "UeBQwDRH3yFN",
        "colab_type": "code",
        "colab": {}
      },
      "source": [
        "# Checkpointing\n",
        "checkpoint_dir = './training_checkpoints'\n",
        "checkpoint_prefix = os.path.join(checkpoint_dir, \"ckpt\")\n",
        "checkpoint = tf.train.Checkpoint(optimizer=optimizer,\n",
        "                                 encoder=encoder,\n",
        "                                 decoder=decoder)"
      ],
      "execution_count": 0,
      "outputs": []
    },
    {
      "cell_type": "code",
      "metadata": {
        "id": "QtvrQ92m32yA",
        "colab_type": "code",
        "colab": {}
      },
      "source": [
        "@tf.function\n",
        "def train_step(inp, targ, enc_hidden):\n",
        "  loss = 0\n",
        "\n",
        "  with tf.GradientTape() as tape:\n",
        "    enc_output, enc_hidden = encoder(inp, enc_hidden)\n",
        "\n",
        "    dec_hidden = enc_hidden\n",
        "\n",
        "    dec_input = tf.expand_dims([lang_tokenizer.word_index['<start>']] * BATCH_SIZE, 1)##\n",
        "\n",
        "    # Teacher forcing - feeding the target as the next input\n",
        "    for t in range(1, targ.shape[1]):\n",
        "      # passing enc_output to the decoder\n",
        "      predictions, dec_hidden, _ = decoder(dec_input, dec_hidden, enc_output)\n",
        "\n",
        "      loss += loss_function(targ[:, t], predictions)\n",
        "\n",
        "      # using teacher forcing\n",
        "      dec_input = tf.expand_dims(targ[:, t], 1)\n",
        "\n",
        "  batch_loss = (loss / int(targ.shape[1]))\n",
        "\n",
        "  variables = encoder.trainable_variables + decoder.trainable_variables\n",
        "\n",
        "  gradients = tape.gradient(loss, variables)\n",
        "\n",
        "  optimizer.apply_gradients(zip(gradients, variables))\n",
        "\n",
        "  return batch_loss"
      ],
      "execution_count": 0,
      "outputs": []
    },
    {
      "cell_type": "code",
      "metadata": {
        "id": "exLT0M4T35HJ",
        "colab_type": "code",
        "outputId": "5a5df22d-2799-4d4d-8d6f-8b3715db84d4",
        "colab": {
          "base_uri": "https://localhost:8080/",
          "height": 1000
        }
      },
      "source": [
        "EPOCHS = 50\n",
        "\n",
        "for epoch in range(EPOCHS):\n",
        "  start = time.time()\n",
        "\n",
        "  enc_hidden = encoder.initialize_hidden_state()\n",
        "  total_loss = 0\n",
        "\n",
        "  for (batch, (inp, targ)) in enumerate(dataset.take(steps_per_epoch)):\n",
        "    batch_loss = train_step(inp, targ, enc_hidden)\n",
        "    total_loss += batch_loss\n",
        "\n",
        "    if batch % 100 == 0:\n",
        "      print('Epoch {} Batch {} Loss {:.4f}'.format(epoch + 1,\n",
        "                                                   batch,\n",
        "                                                   batch_loss.numpy()))\n",
        "  # saving (checkpoint) the model every 2 epochs\n",
        "  if (epoch + 1) % 2 == 0:\n",
        "    checkpoint.save(file_prefix = checkpoint_prefix)\n",
        "\n",
        "  print('Epoch {} Loss {:.4f}'.format(epoch + 1,\n",
        "                                      total_loss / steps_per_epoch))\n",
        "  print('Time taken for 1 epoch {} sec\\n'.format(time.time() - start))"
      ],
      "execution_count": 27,
      "outputs": [
        {
          "output_type": "stream",
          "text": [
            "Epoch 1 Batch 0 Loss 0.7613\n",
            "Epoch 1 Batch 100 Loss 0.4195\n",
            "Epoch 1 Batch 200 Loss 0.5154\n",
            "Epoch 1 Loss 0.4822\n",
            "Time taken for 1 epoch 259.896466255188 sec\n",
            "\n",
            "Epoch 2 Batch 0 Loss 0.4204\n",
            "Epoch 2 Batch 100 Loss 0.3560\n",
            "Epoch 2 Batch 200 Loss 0.4124\n",
            "Epoch 2 Loss 0.4322\n",
            "Time taken for 1 epoch 171.78362607955933 sec\n",
            "\n",
            "Epoch 3 Batch 0 Loss 0.4739\n",
            "Epoch 3 Batch 100 Loss 0.4448\n",
            "Epoch 3 Batch 200 Loss 0.4871\n",
            "Epoch 3 Loss 0.4102\n",
            "Time taken for 1 epoch 169.77469444274902 sec\n",
            "\n",
            "Epoch 4 Batch 0 Loss 0.3930\n",
            "Epoch 4 Batch 100 Loss 0.3755\n",
            "Epoch 4 Batch 200 Loss 0.3504\n",
            "Epoch 4 Loss 0.3843\n",
            "Time taken for 1 epoch 171.8023796081543 sec\n",
            "\n",
            "Epoch 5 Batch 0 Loss 0.3036\n",
            "Epoch 5 Batch 100 Loss 0.3095\n",
            "Epoch 5 Batch 200 Loss 0.2996\n",
            "Epoch 5 Loss 0.3558\n",
            "Time taken for 1 epoch 169.94661235809326 sec\n",
            "\n",
            "Epoch 6 Batch 0 Loss 0.3375\n",
            "Epoch 6 Batch 100 Loss 0.3461\n",
            "Epoch 6 Batch 200 Loss 0.2888\n",
            "Epoch 6 Loss 0.3233\n",
            "Time taken for 1 epoch 172.542542219162 sec\n",
            "\n",
            "Epoch 7 Batch 0 Loss 0.2888\n",
            "Epoch 7 Batch 100 Loss 0.4064\n",
            "Epoch 7 Batch 200 Loss 0.2428\n",
            "Epoch 7 Loss 0.2880\n",
            "Time taken for 1 epoch 170.41633772850037 sec\n",
            "\n",
            "Epoch 8 Batch 0 Loss 0.1796\n",
            "Epoch 8 Batch 100 Loss 0.2921\n",
            "Epoch 8 Batch 200 Loss 0.2803\n",
            "Epoch 8 Loss 0.2504\n",
            "Time taken for 1 epoch 171.93667125701904 sec\n",
            "\n",
            "Epoch 9 Batch 0 Loss 0.1919\n",
            "Epoch 9 Batch 100 Loss 0.2307\n",
            "Epoch 9 Batch 200 Loss 0.1946\n",
            "Epoch 9 Loss 0.2089\n",
            "Time taken for 1 epoch 169.64353203773499 sec\n",
            "\n",
            "Epoch 10 Batch 0 Loss 0.1855\n",
            "Epoch 10 Batch 100 Loss 0.1851\n",
            "Epoch 10 Batch 200 Loss 0.1250\n",
            "Epoch 10 Loss 0.1672\n",
            "Time taken for 1 epoch 171.4384229183197 sec\n",
            "\n",
            "Epoch 11 Batch 0 Loss 0.1223\n",
            "Epoch 11 Batch 100 Loss 0.1121\n",
            "Epoch 11 Batch 200 Loss 0.1294\n",
            "Epoch 11 Loss 0.1278\n",
            "Time taken for 1 epoch 170.15917372703552 sec\n",
            "\n",
            "Epoch 12 Batch 0 Loss 0.0783\n",
            "Epoch 12 Batch 100 Loss 0.0664\n",
            "Epoch 12 Batch 200 Loss 0.1311\n",
            "Epoch 12 Loss 0.0955\n",
            "Time taken for 1 epoch 171.59358382225037 sec\n",
            "\n",
            "Epoch 13 Batch 0 Loss 0.0462\n",
            "Epoch 13 Batch 100 Loss 0.0582\n",
            "Epoch 13 Batch 200 Loss 0.0902\n",
            "Epoch 13 Loss 0.0701\n",
            "Time taken for 1 epoch 169.3612139225006 sec\n",
            "\n",
            "Epoch 14 Batch 0 Loss 0.0437\n",
            "Epoch 14 Batch 100 Loss 0.0725\n",
            "Epoch 14 Batch 200 Loss 0.0521\n",
            "Epoch 14 Loss 0.0544\n",
            "Time taken for 1 epoch 171.52242588996887 sec\n",
            "\n",
            "Epoch 15 Batch 0 Loss 0.0364\n",
            "Epoch 15 Batch 100 Loss 0.0381\n",
            "Epoch 15 Batch 200 Loss 0.0352\n",
            "Epoch 15 Loss 0.0404\n",
            "Time taken for 1 epoch 169.51629829406738 sec\n",
            "\n",
            "Epoch 16 Batch 0 Loss 0.0357\n",
            "Epoch 16 Batch 100 Loss 0.0310\n",
            "Epoch 16 Batch 200 Loss 0.0339\n",
            "Epoch 16 Loss 0.0302\n",
            "Time taken for 1 epoch 171.2838122844696 sec\n",
            "\n",
            "Epoch 17 Batch 0 Loss 0.0254\n",
            "Epoch 17 Batch 100 Loss 0.0195\n",
            "Epoch 17 Batch 200 Loss 0.0176\n",
            "Epoch 17 Loss 0.0217\n",
            "Time taken for 1 epoch 169.19576787948608 sec\n",
            "\n",
            "Epoch 18 Batch 0 Loss 0.0085\n",
            "Epoch 18 Batch 100 Loss 0.0076\n",
            "Epoch 18 Batch 200 Loss 0.0264\n",
            "Epoch 18 Loss 0.0180\n",
            "Time taken for 1 epoch 171.54481649398804 sec\n",
            "\n",
            "Epoch 19 Batch 0 Loss 0.0109\n",
            "Epoch 19 Batch 100 Loss 0.0119\n",
            "Epoch 19 Batch 200 Loss 0.0104\n",
            "Epoch 19 Loss 0.0135\n",
            "Time taken for 1 epoch 169.19663286209106 sec\n",
            "\n",
            "Epoch 20 Batch 0 Loss 0.0097\n",
            "Epoch 20 Batch 100 Loss 0.0160\n",
            "Epoch 20 Batch 200 Loss 0.0113\n",
            "Epoch 20 Loss 0.0143\n",
            "Time taken for 1 epoch 173.14455699920654 sec\n",
            "\n",
            "Epoch 21 Batch 0 Loss 0.0091\n",
            "Epoch 21 Batch 100 Loss 0.0109\n",
            "Epoch 21 Batch 200 Loss 0.0122\n",
            "Epoch 21 Loss 0.0131\n",
            "Time taken for 1 epoch 168.734717130661 sec\n",
            "\n",
            "Epoch 22 Batch 0 Loss 0.0087\n",
            "Epoch 22 Batch 100 Loss 0.0147\n",
            "Epoch 22 Batch 200 Loss 0.0165\n",
            "Epoch 22 Loss 0.0109\n",
            "Time taken for 1 epoch 171.91857290267944 sec\n",
            "\n",
            "Epoch 23 Batch 0 Loss 0.0079\n",
            "Epoch 23 Batch 100 Loss 0.0050\n",
            "Epoch 23 Batch 200 Loss 0.0069\n",
            "Epoch 23 Loss 0.0090\n",
            "Time taken for 1 epoch 169.4741039276123 sec\n",
            "\n",
            "Epoch 24 Batch 0 Loss 0.0067\n",
            "Epoch 24 Batch 100 Loss 0.0056\n",
            "Epoch 24 Batch 200 Loss 0.0202\n",
            "Epoch 24 Loss 0.0091\n",
            "Time taken for 1 epoch 172.02426433563232 sec\n",
            "\n",
            "Epoch 25 Batch 0 Loss 0.0072\n",
            "Epoch 25 Batch 100 Loss 0.0028\n",
            "Epoch 25 Batch 200 Loss 0.0179\n",
            "Epoch 25 Loss 0.0081\n",
            "Time taken for 1 epoch 170.14712643623352 sec\n",
            "\n",
            "Epoch 26 Batch 0 Loss 0.0139\n",
            "Epoch 26 Batch 100 Loss 0.0170\n",
            "Epoch 26 Batch 200 Loss 0.0066\n",
            "Epoch 26 Loss 0.0096\n",
            "Time taken for 1 epoch 171.52599811553955 sec\n",
            "\n",
            "Epoch 27 Batch 0 Loss 0.0047\n",
            "Epoch 27 Batch 100 Loss 0.0077\n",
            "Epoch 27 Batch 200 Loss 0.0064\n",
            "Epoch 27 Loss 0.0079\n",
            "Time taken for 1 epoch 170.01847434043884 sec\n",
            "\n",
            "Epoch 28 Batch 0 Loss 0.0090\n",
            "Epoch 28 Batch 100 Loss 0.0079\n",
            "Epoch 28 Batch 200 Loss 0.0101\n",
            "Epoch 28 Loss 0.0075\n",
            "Time taken for 1 epoch 172.16530966758728 sec\n",
            "\n",
            "Epoch 29 Batch 0 Loss 0.0047\n",
            "Epoch 29 Batch 100 Loss 0.0047\n",
            "Epoch 29 Batch 200 Loss 0.0058\n",
            "Epoch 29 Loss 0.0064\n",
            "Time taken for 1 epoch 169.89941501617432 sec\n",
            "\n",
            "Epoch 30 Batch 0 Loss 0.0042\n",
            "Epoch 30 Batch 100 Loss 0.0066\n",
            "Epoch 30 Batch 200 Loss 0.0107\n",
            "Epoch 30 Loss 0.0066\n",
            "Time taken for 1 epoch 171.86747479438782 sec\n",
            "\n",
            "Epoch 31 Batch 0 Loss 0.0068\n",
            "Epoch 31 Batch 100 Loss 0.0111\n",
            "Epoch 31 Batch 200 Loss 0.0084\n",
            "Epoch 31 Loss 0.0085\n",
            "Time taken for 1 epoch 169.72249174118042 sec\n",
            "\n",
            "Epoch 32 Batch 0 Loss 0.0109\n",
            "Epoch 32 Batch 100 Loss 0.0058\n",
            "Epoch 32 Batch 200 Loss 0.0054\n",
            "Epoch 32 Loss 0.0084\n",
            "Time taken for 1 epoch 172.03266859054565 sec\n",
            "\n",
            "Epoch 33 Batch 0 Loss 0.0074\n",
            "Epoch 33 Batch 100 Loss 0.0047\n",
            "Epoch 33 Batch 200 Loss 0.0064\n",
            "Epoch 33 Loss 0.0066\n",
            "Time taken for 1 epoch 169.6944580078125 sec\n",
            "\n",
            "Epoch 34 Batch 0 Loss 0.0060\n",
            "Epoch 34 Batch 100 Loss 0.0028\n",
            "Epoch 34 Batch 200 Loss 0.0033\n",
            "Epoch 34 Loss 0.0064\n",
            "Time taken for 1 epoch 171.67966890335083 sec\n",
            "\n",
            "Epoch 35 Batch 0 Loss 0.0026\n",
            "Epoch 35 Batch 100 Loss 0.0104\n",
            "Epoch 35 Batch 200 Loss 0.0142\n",
            "Epoch 35 Loss 0.0102\n",
            "Time taken for 1 epoch 169.74393677711487 sec\n",
            "\n",
            "Epoch 36 Batch 0 Loss 0.0107\n",
            "Epoch 36 Batch 100 Loss 0.0071\n",
            "Epoch 36 Batch 200 Loss 0.0109\n",
            "Epoch 36 Loss 0.0114\n",
            "Time taken for 1 epoch 171.62347054481506 sec\n",
            "\n",
            "Epoch 37 Batch 0 Loss 0.0022\n",
            "Epoch 37 Batch 100 Loss 0.0093\n",
            "Epoch 37 Batch 200 Loss 0.0057\n",
            "Epoch 37 Loss 0.0072\n",
            "Time taken for 1 epoch 169.71965503692627 sec\n",
            "\n",
            "Epoch 38 Batch 0 Loss 0.0067\n",
            "Epoch 38 Batch 100 Loss 0.0040\n",
            "Epoch 38 Batch 200 Loss 0.0032\n",
            "Epoch 38 Loss 0.0044\n",
            "Time taken for 1 epoch 171.52640867233276 sec\n",
            "\n",
            "Epoch 39 Batch 0 Loss 0.0063\n",
            "Epoch 39 Batch 100 Loss 0.0016\n",
            "Epoch 39 Batch 200 Loss 0.0022\n",
            "Epoch 39 Loss 0.0029\n",
            "Time taken for 1 epoch 169.65591430664062 sec\n",
            "\n",
            "Epoch 40 Batch 0 Loss 0.0025\n",
            "Epoch 40 Batch 100 Loss 0.0021\n",
            "Epoch 40 Batch 200 Loss 0.0019\n",
            "Epoch 40 Loss 0.0026\n",
            "Time taken for 1 epoch 171.48587441444397 sec\n",
            "\n",
            "Epoch 41 Batch 0 Loss 0.0014\n",
            "Epoch 41 Batch 100 Loss 0.0013\n",
            "Epoch 41 Batch 200 Loss 0.0017\n",
            "Epoch 41 Loss 0.0026\n",
            "Time taken for 1 epoch 169.30330872535706 sec\n",
            "\n",
            "Epoch 42 Batch 0 Loss 0.0031\n",
            "Epoch 42 Batch 100 Loss 0.0016\n",
            "Epoch 42 Batch 200 Loss 0.0010\n",
            "Epoch 42 Loss 0.0030\n",
            "Time taken for 1 epoch 171.12576842308044 sec\n",
            "\n",
            "Epoch 43 Batch 0 Loss 0.0015\n",
            "Epoch 43 Batch 100 Loss 0.0036\n",
            "Epoch 43 Batch 200 Loss 0.0051\n",
            "Epoch 43 Loss 0.0042\n",
            "Time taken for 1 epoch 168.90976309776306 sec\n",
            "\n",
            "Epoch 44 Batch 0 Loss 0.0042\n",
            "Epoch 44 Batch 100 Loss 0.0060\n",
            "Epoch 44 Batch 200 Loss 0.0138\n",
            "Epoch 44 Loss 0.0057\n",
            "Time taken for 1 epoch 170.74776005744934 sec\n",
            "\n",
            "Epoch 45 Batch 0 Loss 0.0057\n",
            "Epoch 45 Batch 100 Loss 0.0055\n",
            "Epoch 45 Batch 200 Loss 0.0122\n",
            "Epoch 45 Loss 0.0075\n",
            "Time taken for 1 epoch 169.50903391838074 sec\n",
            "\n",
            "Epoch 46 Batch 0 Loss 0.0137\n",
            "Epoch 46 Batch 100 Loss 0.0066\n",
            "Epoch 46 Batch 200 Loss 0.0038\n",
            "Epoch 46 Loss 0.0091\n",
            "Time taken for 1 epoch 171.37403345108032 sec\n",
            "\n",
            "Epoch 47 Batch 0 Loss 0.0067\n",
            "Epoch 47 Batch 100 Loss 0.0063\n",
            "Epoch 47 Batch 200 Loss 0.0184\n",
            "Epoch 47 Loss 0.0117\n",
            "Time taken for 1 epoch 169.15838313102722 sec\n",
            "\n",
            "Epoch 48 Batch 0 Loss 0.0113\n",
            "Epoch 48 Batch 100 Loss 0.0134\n",
            "Epoch 48 Batch 200 Loss 0.0149\n",
            "Epoch 48 Loss 0.0107\n",
            "Time taken for 1 epoch 171.50973749160767 sec\n",
            "\n",
            "Epoch 49 Batch 0 Loss 0.0071\n",
            "Epoch 49 Batch 100 Loss 0.0052\n",
            "Epoch 49 Batch 200 Loss 0.0046\n",
            "Epoch 49 Loss 0.0061\n",
            "Time taken for 1 epoch 169.49489569664001 sec\n",
            "\n",
            "Epoch 50 Batch 0 Loss 0.0074\n",
            "Epoch 50 Batch 100 Loss 0.0019\n",
            "Epoch 50 Batch 200 Loss 0.0031\n",
            "Epoch 50 Loss 0.0033\n",
            "Time taken for 1 epoch 173.334379196167 sec\n",
            "\n"
          ],
          "name": "stdout"
        }
      ]
    },
    {
      "cell_type": "code",
      "metadata": {
        "id": "i2he1Z_MCT4G",
        "colab_type": "code",
        "colab": {}
      },
      "source": [
        "max_length_inp = pos_seq_tensors.shape[1]\n",
        "max_length_targ = pos_sel_seq_tensors.shape[1]\n",
        "inp_lang = lang_tokenizer\n",
        "targ_lang = lang_tokenizer"
      ],
      "execution_count": 0,
      "outputs": []
    },
    {
      "cell_type": "code",
      "metadata": {
        "id": "_0WgyMrc37Mo",
        "colab_type": "code",
        "colab": {}
      },
      "source": [
        "def evaluate(sentence):\n",
        "  attention_plot = np.zeros((max_length_targ, max_length_inp))\n",
        "\n",
        "  sentence = preprocess_sentence(sentence)\n",
        "\n",
        "  inputs = [inp_lang.word_index[i] for i in sentence.split(' ')]\n",
        "  inputs = tf.keras.preprocessing.sequence.pad_sequences([inputs],\n",
        "                                                         maxlen=max_length_inp,\n",
        "                                                         padding='post')\n",
        "  inputs = tf.convert_to_tensor(inputs)\n",
        "\n",
        "  result = ''\n",
        "\n",
        "  hidden = [tf.zeros((1, units))]\n",
        "  enc_out, enc_hidden = encoder(inputs, hidden)\n",
        "\n",
        "  dec_hidden = enc_hidden\n",
        "  dec_input = tf.expand_dims([targ_lang.word_index['<start>']], 0)\n",
        "\n",
        "  for t in range(max_length_targ):\n",
        "    predictions, dec_hidden, attention_weights = decoder(dec_input,\n",
        "                                                         dec_hidden,\n",
        "                                                         enc_out)\n",
        "\n",
        "    # storing the attention weights to plot later on\n",
        "    attention_weights = tf.reshape(attention_weights, (-1, ))\n",
        "    attention_plot[t] = attention_weights.numpy()\n",
        "\n",
        "    predicted_id = tf.argmax(predictions[0]).numpy()\n",
        "\n",
        "    result += targ_lang.index_word[predicted_id] + ' '\n",
        "\n",
        "    if targ_lang.index_word[predicted_id] == '<end>':\n",
        "      return result, sentence, attention_plot\n",
        "\n",
        "    # the predicted ID is fed back into the model\n",
        "    dec_input = tf.expand_dims([predicted_id], 0)\n",
        "\n",
        "  return result, sentence, attention_plot"
      ],
      "execution_count": 0,
      "outputs": []
    },
    {
      "cell_type": "code",
      "metadata": {
        "id": "6N7-qWHa5iSt",
        "colab_type": "code",
        "colab": {}
      },
      "source": [
        "# function for plotting the attention weights\n",
        "def plot_attention(attention, sentence, predicted_sentence):\n",
        "  fig = plt.figure(figsize=(10,10))\n",
        "  ax = fig.add_subplot(1, 1, 1)\n",
        "  ax.matshow(attention, cmap='viridis')\n",
        "\n",
        "  fontdict = {'fontsize': 14}\n",
        "\n",
        "  ax.set_xticklabels([''] + sentence, fontdict=fontdict, rotation=90)\n",
        "  ax.set_yticklabels([''] + predicted_sentence, fontdict=fontdict)\n",
        "\n",
        "  ax.xaxis.set_major_locator(ticker.MultipleLocator(1))\n",
        "  ax.yaxis.set_major_locator(ticker.MultipleLocator(1))\n",
        "\n",
        "  plt.show()"
      ],
      "execution_count": 0,
      "outputs": []
    },
    {
      "cell_type": "code",
      "metadata": {
        "id": "TMtcRX_SBhUa",
        "colab_type": "code",
        "colab": {}
      },
      "source": [
        "def translate(sentence):\n",
        "  result, sentence, attention_plot = evaluate(sentence)\n",
        "\n",
        "  print('Input: %s' % (sentence))\n",
        "  print('Predicted translation: {}'.format(result))\n",
        "  print('-'*40)\n",
        "\n",
        "  attention_plot = attention_plot[:len(result.split(' ')), :len(sentence.split(' '))]\n",
        "  #plot_attention(attention_plot, sentence.split(' '), result.split(' '))"
      ],
      "execution_count": 0,
      "outputs": []
    },
    {
      "cell_type": "code",
      "metadata": {
        "id": "TnsBnaViSmOB",
        "colab_type": "code",
        "outputId": "e9aed269-4ff8-4bc8-e759-f7316a2d6c5e",
        "colab": {
          "base_uri": "https://localhost:8080/",
          "height": 34
        }
      },
      "source": [
        "# restoring the latest checkpoint in checkpoint_dir\n",
        "checkpoint.restore(tf.train.latest_checkpoint(checkpoint_dir))"
      ],
      "execution_count": 33,
      "outputs": [
        {
          "output_type": "execute_result",
          "data": {
            "text/plain": [
              "<tensorflow.python.training.tracking.util.CheckpointLoadStatus at 0x7f88af75f1d0>"
            ]
          },
          "metadata": {
            "tags": []
          },
          "execution_count": 33
        }
      ]
    },
    {
      "cell_type": "code",
      "metadata": {
        "id": "MkTFC6pDBlMp",
        "colab_type": "code",
        "colab": {}
      },
      "source": [
        "p_test = test_df[test_df['sentiment'] != 'neutral']"
      ],
      "execution_count": 0,
      "outputs": []
    },
    {
      "cell_type": "code",
      "metadata": {
        "id": "VunuKhp0BoEc",
        "colab_type": "code",
        "outputId": "2fa37c5a-7345-4829-cc5c-6652a6252f9d",
        "colab": {
          "base_uri": "https://localhost:8080/",
          "height": 1000
        }
      },
      "source": [
        "k = 40\n",
        "for t in p_test.text.values:\n",
        "  translate(t)\n",
        "  k -= 1\n",
        "  if k == 0:\n",
        "    break"
      ],
      "execution_count": 35,
      "outputs": [
        {
          "output_type": "stream",
          "text": [
            "Input: <start> shanghai is also really exciting precisely skyscrapers galore . good tweeps in china sh bj . <end>\n",
            "Predicted translation: bored <end> \n",
            "----------------------------------------\n",
            "Input: <start> recession hit veronique branquinho , she has to quit her company , such a shame ! <end>\n",
            "Predicted translation: wrong . <end> \n",
            "----------------------------------------\n",
            "Input: <start> happy bday ! <end>\n",
            "Predicted translation: happy <end> \n",
            "----------------------------------------\n",
            "Input: <start> http twitpic . com w p i like it ! ! <end>\n",
            "Predicted translation: i like it ! ! <end> \n",
            "----------------------------------------\n",
            "Input: <start> that s great ! ! weee ! ! visitors ! <end>\n",
            "Predicted translation: s great ! ! <end> \n",
            "----------------------------------------\n",
            "Input: <start> i think everyone hates me on here lol <end>\n",
            "Predicted translation: i think your dog me on here lol <end> \n",
            "----------------------------------------\n",
            "Input: <start> soooooo wish i could , but im in school and myspace is completely blocked <end>\n",
            "Predicted translation: smh <end> \n",
            "----------------------------------------\n",
            "Input: <start> my bike was put on hold . . . should have known that . . . . argh total bummer <end>\n",
            "Predicted translation: perfect <end> \n",
            "----------------------------------------\n",
            "Input: <start> i m in va for the weekend , my youngest son turns tomorrow . . . . . . it makes me kinda sad , he is getting so big , check out my twipics <end>\n",
            "Predicted translation: . that makes me kinda big , <end> \n",
            "----------------------------------------\n",
            "Input: <start> its coming out the socket i feel like my phones hole is not a virgin . that s how loose it is . . . <end>\n",
            "Predicted translation: its a free and that s wrong <end> \n",
            "----------------------------------------\n",
            "Input: <start> so hot today don t like it and i hate my new timetable , having such a bad week <end>\n",
            "Predicted translation: hate <end> \n",
            "----------------------------------------\n",
            "Input: <start> miss you <end>\n",
            "Predicted translation: miss <end> \n",
            "----------------------------------------\n",
            "Input: <start> cramps . . . <end>\n",
            "Predicted translation: ugh . . . <end> \n",
            "----------------------------------------\n",
            "Input: <start> you guys didn t say hi or answer my questions yesterday but nice songs . <end>\n",
            "Predicted translation: e lovely <end> \n",
            "----------------------------------------\n",
            "Input: <start> stupid storm . no river for us tonight <end>\n",
            "Predicted translation: ruined <end> \n",
            "----------------------------------------\n",
            "Input: <start> my dead grandpa pays more attention to me than you do <end>\n",
            "Predicted translation: dead <end> \n",
            "----------------------------------------\n",
            "Input: <start> . . . need retail therapy , bad . ahhh . . . . . gimme money geebus <end>\n",
            "Predicted translation: . . personally for lunch , bad . <end> \n",
            "----------------------------------------\n",
            "Input: <start> you are lame go make me breakfast ! ! <end>\n",
            "Predicted translation: you are lame <end> \n",
            "----------------------------------------\n",
            "Input: <start> thats so cool <end>\n",
            "Predicted translation: cool <end> \n",
            "----------------------------------------\n",
            "Input: <start> look who i found just for you http twitter . com djt <end>\n",
            "Predicted translation: d loads i will just for you <end> \n",
            "----------------------------------------\n",
            "Input: <start> no ac , the fan doesnt swing our way . . . we are sweating it out on a hot humid day <end>\n",
            "Predicted translation: a hell i the hell i might r it out on a hot butt day <end> \n",
            "----------------------------------------\n",
            "Input: <start> watching body of lies . . . good film <end>\n",
            "Predicted translation: good job <end> \n",
            "----------------------------------------\n",
            "Input: <start> happy mothers day mumm xoxo <end>\n",
            "Predicted translation: happy mothers day every people <end> \n",
            "----------------------------------------\n",
            "Input: <start> i m sorry at least it s friday ? <end>\n",
            "Predicted translation: sorry <end> \n",
            "----------------------------------------\n",
            "Input: <start> feels sorry every time i m printing out , i use like new papers <end>\n",
            "Predicted translation: sorry <end> \n",
            "----------------------------------------\n",
            "Input: <start> n ? ma rog never heard of it esti beat acum ? u tweet too much <end>\n",
            "Predicted translation: o won t much <end> \n",
            "----------------------------------------\n",
            "Input: <start> hi there . i agree ! small children should be running about happy , not breaking down in tears <end>\n",
            "Predicted translation: o lucky <end> \n",
            "----------------------------------------\n",
            "Input: <start> hope ur havin fun in da club <end>\n",
            "Predicted translation: fun <end> \n",
            "----------------------------------------\n",
            "Input: <start> thinks sg is wonderful <end>\n",
            "Predicted translation: wonderful <end> \n",
            "----------------------------------------\n",
            "Input: <start> im really sorry i know wallah how u feel this life is shittttttttt <end>\n",
            "Predicted translation: im really sorry i know abt how u feel this life is <end> \n",
            "----------------------------------------\n",
            "Input: <start> not happy <end>\n",
            "Predicted translation: not happy <end> \n",
            "----------------------------------------\n",
            "Input: <start> i m so very tired . . . and have insomnia . <end>\n",
            "Predicted translation: i m so very tired . . <end> \n",
            "----------------------------------------\n",
            "Input: <start> thanks ennio <end>\n",
            "Predicted translation: thanks <end> \n",
            "----------------------------------------\n",
            "Input: <start> you seem nice , you re generous and you know your stuff <end>\n",
            "Predicted translation: nice , <end> \n",
            "----------------------------------------\n",
            "Input: <start> caladesi was definitely a nice peaceful way to spend a sunday ! i got a lil tan ! <end>\n",
            "Predicted translation: nice <end> \n",
            "----------------------------------------\n",
            "Input: <start> dear rain , you suck . now i gotta change my plans for tonight <end>\n",
            "Predicted translation: t suck . <end> \n",
            "----------------------------------------\n",
            "Input: <start> i just cried whilst watching hollyoaks . . i need a life ! lol <end>\n",
            "Predicted translation: i can t died <end> \n",
            "----------------------------------------\n",
            "Input: <start> hi all , just recovering from a party , looking forward to an exciting bank holiday around the diy shops . . . life cant get much better . surely <end>\n",
            "Predicted translation: terrible <end> \n",
            "----------------------------------------\n",
            "Input: <start> for . . . the . . . loss . dumbface . . . him , not u . what u up to on the wknd ? i wanna seeeeeee ya ! <end>\n",
            "Predicted translation: . . . . <end> \n",
            "----------------------------------------\n",
            "Input: <start> on the monday , so i wont be able to be with you ! i love you <end>\n",
            "Predicted translation: i love you <end> \n",
            "----------------------------------------\n"
          ],
          "name": "stdout"
        }
      ]
    },
    {
      "cell_type": "code",
      "metadata": {
        "id": "3xlJqO5lD8ae",
        "colab_type": "code",
        "outputId": "a10effd6-018f-4dbd-9230-279c7d755b52",
        "colab": {
          "base_uri": "https://localhost:8080/",
          "height": 1000
        }
      },
      "source": [
        "k = 30\n",
        "for t in test_df.text.values:\n",
        "  translate(t)\n",
        "  k -= 1\n",
        "  if k == 0:\n",
        "    break"
      ],
      "execution_count": 0,
      "outputs": [
        {
          "output_type": "stream",
          "text": [
            "Input: <start> last session of the day http twitpic . com ezh <end>\n",
            "Predicted translation: not a day <end> \n",
            "----------------------------------------\n",
            "Input: <start> shanghai is also really exciting precisely skyscrapers galore . good tweeps in china sh bj . <end>\n",
            "Predicted translation: good <end> \n",
            "----------------------------------------\n",
            "Input: <start> recession hit veronique branquinho , she has to quit her company , such a shame ! <end>\n",
            "Predicted translation: loved her to have a safe to have a safe to have a safe to have a safe to have a safe to have a safe to have a safe to have a safe to have a safe to \n",
            "----------------------------------------\n",
            "Input: <start> happy bday ! <end>\n",
            "Predicted translation: happy ! <end> \n",
            "----------------------------------------\n",
            "Input: <start> http twitpic . com w p i like it ! ! <end>\n",
            "Predicted translation: i like it ! <end> \n",
            "----------------------------------------\n",
            "Input: <start> that s great ! ! weee ! ! visitors ! <end>\n",
            "Predicted translation: great ! ! ! ! ! ! ! ! ! ! ! ! ! ! ! ! ! ! ! ! ! ! ! ! ! ! ! ! ! ! ! ! ! ! ! ! ! ! \n",
            "----------------------------------------\n",
            "Input: <start> i think everyone hates me on here lol <end>\n",
            "Predicted translation: i cant wait <end> \n",
            "----------------------------------------\n",
            "Input: <start> soooooo wish i could , but im in school and myspace is completely blocked <end>\n",
            "Predicted translation: straight you , <end> \n",
            "----------------------------------------\n",
            "Input: <start> and within a short time of the last clue all of them <end>\n",
            "Predicted translation: may <end> \n",
            "----------------------------------------\n",
            "Input: <start> what did you get ? my day is alright . . haven t done anything yet . leaving soon to my stepsister though ! <end>\n",
            "Predicted translation: loved <end> \n",
            "----------------------------------------\n",
            "Input: <start> my bike was put on hold . . . should have known that . . . . argh total bummer <end>\n",
            "Predicted translation: my fav . <end> \n",
            "----------------------------------------\n",
            "Input: <start> i checked . we didn t win <end>\n",
            "Predicted translation: i won t want <end> \n",
            "----------------------------------------\n",
            "Input: <start> . . and you re on twitter ! did the tavern bore you that much ? <end>\n",
            "Predicted translation: . you are you . <end> \n",
            "----------------------------------------\n",
            "Input: <start> i m in va for the weekend , my youngest son turns tomorrow . . . . . . it makes me kinda sad , he is getting so big , check out my twipics <end>\n",
            "Predicted translation: i m so at least its right in for the last work for the last work for the last work for the last work for the last work for the last work for the last work for the last \n",
            "----------------------------------------\n",
            "Input: <start> its coming out the socket i feel like my phones hole is not a virgin . that s how loose it is . . . <end>\n",
            "Predicted translation: i feel the one <end> \n",
            "----------------------------------------\n",
            "Input: <start> so hot today don t like it and i hate my new timetable , having such a bad week <end>\n",
            "Predicted translation: like it s a bad have a bad have a bad have a bad have a bad have a bad have a bad have a bad have a bad have a bad have a bad have a bad have \n",
            "----------------------------------------\n",
            "Input: <start> miss you <end>\n",
            "Predicted translation: thx <end> \n",
            "----------------------------------------\n",
            "Input: <start> cramps . . . <end>\n",
            "Predicted translation: hugs <end> \n",
            "----------------------------------------\n",
            "Input: <start> you guys didn t say hi or answer my questions yesterday but nice songs . <end>\n",
            "Predicted translation: like <end> \n",
            "----------------------------------------\n",
            "Input: <start> i m going into a spiritual stagnentation , its exploding my ego ! . i now realise , i m not all that great . and i m ok with that . <end>\n",
            "Predicted translation: super great . <end> \n",
            "----------------------------------------\n",
            "Input: <start> stupid storm . no river for us tonight <end>\n",
            "Predicted translation: enjoy <end> \n",
            "----------------------------------------\n",
            "Input: <start> my dead grandpa pays more attention to me than you do <end>\n",
            "Predicted translation: better <end> \n",
            "----------------------------------------\n",
            "Input: <start> . . . need retail therapy , bad . ahhh . . . . . gimme money geebus <end>\n",
            "Predicted translation: . . . . . . . . . . . . . . . . . . . . . . . . . . . . . . . . . . . . . . . \n",
            "----------------------------------------\n",
            "Input: <start> about to go to sleep <end>\n",
            "Predicted translation: will be <end> \n",
            "----------------------------------------\n",
            "Input: <start> you are lame go make me breakfast ! ! <end>\n",
            "Predicted translation: you are so much ! <end> \n",
            "----------------------------------------\n",
            "Input: <start> thats so cool <end>\n",
            "Predicted translation: thats cool <end> \n",
            "----------------------------------------\n",
            "Input: <start> hey peoples , dont you just hate being grounded haha , im just sat eating an apple and watching death note some anime <end>\n",
            "Predicted translation: e , <end> \n",
            "----------------------------------------\n",
            "Input: <start> huh , another scarepoint coding sunday <end>\n",
            "Predicted translation: what is free <end> \n",
            "----------------------------------------\n",
            "Input: <start> look who i found just for you http twitter . com djt <end>\n",
            "Predicted translation: i do trying to be right . <end> \n",
            "----------------------------------------\n",
            "Input: <start> no ac , the fan doesnt swing our way . . . we are sweating it out on a hot humid day <end>\n",
            "Predicted translation: good <end> \n",
            "----------------------------------------\n"
          ],
          "name": "stdout"
        }
      ]
    },
    {
      "cell_type": "code",
      "metadata": {
        "id": "iTz89zYUyS7t",
        "colab_type": "code",
        "colab": {}
      },
      "source": [
        ""
      ],
      "execution_count": 0,
      "outputs": []
    }
  ]
}